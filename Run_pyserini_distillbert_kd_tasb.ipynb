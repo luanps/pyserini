{
  "nbformat": 4,
  "nbformat_minor": 0,
  "metadata": {
    "colab": {
      "name": "Run pyserini - distillbert_kd_tasb.ipynb",
      "provenance": [],
      "machine_shape": "hm",
      "background_execution": "on",
      "authorship_tag": "ABX9TyPfrULSNbDr/BHA6DmEZwDv",
      "include_colab_link": true
    },
    "kernelspec": {
      "name": "python3",
      "display_name": "Python 3"
    },
    "language_info": {
      "name": "python"
    },
    "accelerator": "GPU"
  },
  "cells": [
    {
      "cell_type": "markdown",
      "metadata": {
        "id": "view-in-github",
        "colab_type": "text"
      },
      "source": [
        "<a href=\"https://colab.research.google.com/github/luanps/pyserini/blob/master/Run_pyserini_distillbert_kd_tasb.ipynb\" target=\"_parent\"><img src=\"https://colab.research.google.com/assets/colab-badge.svg\" alt=\"Open In Colab\"/></a>"
      ]
    },
    {
      "cell_type": "markdown",
      "source": [
        "# Distilbert-KD Balanced Topic Aware Sampling (TASB) Passage Ranking on MSMARCO\n",
        "\n",
        "Sebastian Hofstätter, Sheng-Chieh Lin, Jheng-Hong Yang, Jimmy Lin, Allan Hanbury. Efficiently Teaching an Effective Dense Retriever with Balanced Topic Aware Sampling. SIGIR 2021.\n"
      ],
      "metadata": {
        "id": "EkJ-trI_kIza"
      }
    },
    {
      "cell_type": "markdown",
      "source": [
        "## Install dependencies"
      ],
      "metadata": {
        "id": "_NfPlP4fFwuH"
      }
    },
    {
      "cell_type": "code",
      "source": [
        "from google.colab import auth\n",
        "auth.authenticate_user()"
      ],
      "metadata": {
        "id": "U4QbbuVnLisS"
      },
      "execution_count": 1,
      "outputs": []
    },
    {
      "cell_type": "code",
      "source": [
        "%%capture\n",
        "!pip install pyserini\n",
        "\n",
        "import os\n",
        "os.environ[\"JAVA_HOME\"] = \"/usr/lib/jvm/java-11-openjdk-amd64\""
      ],
      "metadata": {
        "id": "-ycV2g24xYhc"
      },
      "execution_count": 2,
      "outputs": []
    },
    {
      "cell_type": "markdown",
      "source": [
        ""
      ],
      "metadata": {
        "id": "JTzQmpe6VXmR"
      }
    },
    {
      "cell_type": "code",
      "source": [
        "!pip install faiss-cpu"
      ],
      "metadata": {
        "id": "IIH-U0TG26By",
        "colab": {
          "base_uri": "https://localhost:8080/"
        },
        "outputId": "5bc6fabe-1972-4189-c625-1b522a2a7bb1"
      },
      "execution_count": 3,
      "outputs": [
        {
          "output_type": "stream",
          "name": "stdout",
          "text": [
            "Collecting faiss-cpu\n",
            "  Downloading faiss_cpu-1.7.2-cp37-cp37m-manylinux_2_17_x86_64.manylinux2014_x86_64.whl (8.6 MB)\n",
            "\u001b[K     |████████████████████████████████| 8.6 MB 14.6 MB/s \n",
            "\u001b[?25hInstalling collected packages: faiss-cpu\n",
            "Successfully installed faiss-cpu-1.7.2\n"
          ]
        }
      ]
    },
    {
      "cell_type": "markdown",
      "source": [
        "## Dense retrieval with Distilbert-KD TASB - MSMARCO Passage Ranking"
      ],
      "metadata": {
        "id": "o0SedQeVFsUY"
      }
    },
    {
      "cell_type": "code",
      "source": [
        "! python -m pyserini.dsearch --topics msmarco-passage-dev-subset \\\n",
        "                             --index msmarco-passage-distilbert-dot-tas_b-b256-bf \\\n",
        "                             --encoded-queries distilbert_tas_b-msmarco-passage-dev-subset \\\n",
        "                             --batch-size 36 \\\n",
        "                             --threads 12 \\\n",
        "                             --output run.msmarco-passage.distilbert-dot-tas_b-b256.bf.tsv \\\n",
        "                             --output-format msmarco"
      ],
      "metadata": {
        "id": "K_mAjElIvPRd",
        "colab": {
          "base_uri": "https://localhost:8080/"
        },
        "outputId": "041bc10c-dbdd-407a-ae93-1651b81c31c8"
      },
      "execution_count": 9,
      "outputs": [
        {
          "output_type": "stream",
          "name": "stdout",
          "text": [
            "Using pre-defined topic order for msmarco-passage-dev-subset\n",
            "Attempting to initialize pre-encoded queries distilbert_tas_b-msmarco-passage-dev-subset.\n",
            "Downloading index at https://github.com/castorini/pyserini-data/raw/main/encoded-queries/query-embedding-distilbert_dot_tas_b_b256-msmarco-passage-dev-subset-20210527-63276f.tar.gz...\n",
            "query-embedding-distilbert_dot_tas_b_b256-msmarco-passage-dev-subset-20210527-63276f.tar.gz: 19.1MB [00:01, 16.2MB/s]                \n",
            "Extracting /root/.cache/pyserini/queries/query-embedding-distilbert_dot_tas_b_b256-msmarco-passage-dev-subset-20210527-63276f.tar.gz into /root/.cache/pyserini/queries/query-embedding-distilbert_dot_tas_b_b256-msmarco-passage-dev-subset-20210527-63276f.17a3f81de7ba497728050b83733b1c46...\n",
            "Initializing distilbert_tas_b-msmarco-passage-dev-subset...\n",
            "Attempting to initialize pre-built index msmarco-passage-distilbert-dot-tas_b-b256-bf.\n",
            "Downloading index at https://rgw.cs.uwaterloo.ca/JIMMYLIN-bucket0/pyserini-indexes/dindex-msmarco-passage-distilbert-dot-tas_b-b256-bf-20210527-63276f.tar.gz...\n",
            "dindex-msmarco-passage-distilbert-dot-tas_b-b256-bf-20210527-63276f.tar.gz: 23.4GB [14:30, 28.9MB/s]                \n",
            "Extracting /root/.cache/pyserini/indexes/dindex-msmarco-passage-distilbert-dot-tas_b-b256-bf-20210527-63276f.tar.gz into /root/.cache/pyserini/indexes/dindex-msmarco-passage-distilbert-dot-tas_b-b256-bf-20210527-63276f.cc947bf66d9552a2a7c6fe060466e490...\n",
            "Initializing msmarco-passage-distilbert-dot-tas_b-b256-bf...\n",
            "tcmalloc: large alloc 27162083328 bytes == 0x55ae21e34000 @  0x7ff5f91cd887 0x7ff46fcc4ce1 0x7ff46fccd6b3 0x7ff46fb6bf90 0x55ae16470258 0x55ae165a418e 0x55ae1659d9ee 0x55ae16530bda 0x55ae165a2d00 0x55ae16530afa 0x55ae1659ec0d 0x55ae1659d9ee 0x55ae16531271 0x55ae16572159 0x55ae1656f0a4 0x55ae1652fc52 0x55ae165a2c25 0x55ae16530afa 0x55ae165a2d00 0x55ae1659d9ee 0x55ae1659d6f3 0x55ae1659bb60 0x55ae1652f349 0x55ae1652f240 0x55ae165a2973 0x55ae1659d9ee 0x55ae16530bda 0x55ae1659e915 0x55ae1659d9ee 0x55ae1646feb0 0x55ae16641581\n",
            "Attempting to initialize pre-built index msmarco-passage.\n",
            "Downloading index at https://rgw.cs.uwaterloo.ca/JIMMYLIN-bucket0/pyserini-indexes/index-msmarco-passage-20201117-f87c94.tar.gz...\n",
            "index-msmarco-passage-20201117-f87c94.tar.gz: 2.07GB [01:14, 29.9MB/s]                \n",
            "Extracting /root/.cache/pyserini/indexes/index-msmarco-passage-20201117-f87c94.tar.gz into /root/.cache/pyserini/indexes/index-msmarco-passage-20201117-f87c94.1efad4f1ae6a77e235042eff4be1612d...\n",
            "Initializing msmarco-passage...\n",
            "Running msmarco-passage-dev-subset topics, saving to run.msmarco-passage.distilbert-dot-tas_b-b256.bf.tsv...\n",
            "100% 6980/6980 [47:36<00:00,  2.44it/s]\n"
          ]
        }
      ]
    },
    {
      "cell_type": "code",
      "source": [
        "!gsutil cp run.msmarco-passage.distilbert-dot-tas_b-b256.bf.tsv gs://luanps/information_retrieval/pyserini/distilbert-kd-tasb/"
      ],
      "metadata": {
        "id": "k9OI5KlzvYhK",
        "colab": {
          "base_uri": "https://localhost:8080/"
        },
        "outputId": "c912e095-3bb7-4c3c-ee1d-600e2efd2f98"
      },
      "execution_count": 10,
      "outputs": [
        {
          "output_type": "stream",
          "name": "stdout",
          "text": [
            "Copying file://run.msmarco-passage.distilbert-dot-tas_b-b256.bf.tsv [Content-Type=text/tab-separated-values]...\n",
            "\\ [1 files][127.0 MiB/127.0 MiB]                                                \n",
            "Operation completed over 1 objects/127.0 MiB.                                    \n"
          ]
        }
      ]
    },
    {
      "cell_type": "markdown",
      "source": [
        "### Evaluation"
      ],
      "metadata": {
        "id": "rCnE_TM0NgZ2"
      }
    },
    {
      "cell_type": "code",
      "source": [
        "#MRR Eval\n",
        "!python -m pyserini.eval.msmarco_passage_eval msmarco-passage-dev-subset run.msmarco-passage.distilbert-dot-tas_b-b256.bf.tsv >> msmarco_passage_distilbert-dot-tas_b-b256_bf_mrr_eval.txt"
      ],
      "metadata": {
        "id": "sgJ9Kc2UM3Lm"
      },
      "execution_count": 11,
      "outputs": []
    },
    {
      "cell_type": "code",
      "source": [
        "#TREC Eval\n",
        "!python -m pyserini.eval.convert_msmarco_run_to_trec_run --input run.msmarco-passage.distilbert-dot-tas_b-b256.bf.tsv \\\n",
        "                                                         --output run.msmarco-passage.distilbert-dot-tas_b-b256.bf.trec\n",
        "\n",
        "!python -m pyserini.eval.trec_eval -c -mrecall.1000 \\\n",
        "                                      -mmap msmarco-passage-dev-subset \\\n",
        "                                      run.msmarco-passage.distilbert-dot-tas_b-b256.bf.trec >> msmarco_passage_distilbert-dot-tas_b-b256.bf.tsv_eval.txt"
      ],
      "metadata": {
        "id": "SXCWom8RNzZY",
        "colab": {
          "base_uri": "https://localhost:8080/"
        },
        "outputId": "6421ddde-f684-43ce-d01e-ad96d29321b9"
      },
      "execution_count": 12,
      "outputs": [
        {
          "output_type": "stream",
          "name": "stdout",
          "text": [
            "Done!\n"
          ]
        }
      ]
    },
    {
      "cell_type": "code",
      "source": [
        "!gsutil cp msmarco_passage_distilbert-dot-tas_b-b256_bf_mrr_eval.txt msmarco_passage_distilbert-dot-tas_b-b256.bf.tsv_eval.txt gs://luanps/information_retrieval/pyserini/distilbert-kd-tasb/"
      ],
      "metadata": {
        "id": "QxRQZK9OPkZU",
        "colab": {
          "base_uri": "https://localhost:8080/"
        },
        "outputId": "6f01c83f-1f75-4eb6-de67-421ae56e7887"
      },
      "execution_count": 13,
      "outputs": [
        {
          "output_type": "stream",
          "name": "stdout",
          "text": [
            "Copying file://msmarco_passage_distilbert-dot-tas_b-b256_bf_mrr_eval.txt [Content-Type=text/plain]...\n",
            "Copying file://msmarco_passage_distilbert-dot-tas_b-b256.bf.tsv_eval.txt [Content-Type=text/plain]...\n",
            "/ [2 files][  3.0 KiB/  3.0 KiB]                                                \n",
            "Operation completed over 2 objects/3.0 KiB.                                      \n"
          ]
        }
      ]
    }
  ]
}