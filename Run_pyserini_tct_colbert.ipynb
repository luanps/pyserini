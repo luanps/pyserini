{
  "nbformat": 4,
  "nbformat_minor": 0,
  "metadata": {
    "colab": {
      "name": "Run pyserini - tct_colbert.ipynb",
      "provenance": [],
      "machine_shape": "hm",
      "background_execution": "on",
      "authorship_tag": "ABX9TyMBBvVjMkQrcKM0o8P9NiL6",
      "include_colab_link": true
    },
    "kernelspec": {
      "name": "python3",
      "display_name": "Python 3"
    },
    "language_info": {
      "name": "python"
    },
    "accelerator": "GPU"
  },
  "cells": [
    {
      "cell_type": "markdown",
      "metadata": {
        "id": "view-in-github",
        "colab_type": "text"
      },
      "source": [
        "<a href=\"https://colab.research.google.com/github/luanps/pyserini/blob/master/Run_pyserini_tct_colbert.ipynb\" target=\"_parent\"><img src=\"https://colab.research.google.com/assets/colab-badge.svg\" alt=\"Open In Colab\"/></a>"
      ]
    },
    {
      "cell_type": "markdown",
      "source": [
        "\n",
        "# TCT Colbert Passage Ranking on MSMARCO\n",
        "\n",
        "Sheng-Chieh Lin, Jheng-Hong Yang, and Jimmy Lin. Distilling Dense Representations for Ranking using Tightly-Coupled Teachers. arXiv:2010.11386, October 2020.\n",
        "\n",
        "Summary of results:\n",
        "\n",
        "| Condition | MRR@10 | MAP | Recall@1000 |\n",
        "|:----------|-------:|----:|------------:|\n",
        "| TCT-ColBERT (brute-force index) | 0.3350 | 0.3416 | 0.9640 |\n",
        "| TCT-ColBERT (HNSW index) | 0.3345 | 0.3410 | 0.9618 |\n",
        "| TCT-ColBERT (brute-force index) + BoW BM25 | 0.3529 | 0.3594 | 0.9698 |\n",
        "| TCT-ColBERT (brute-force index) + BM25 w/ doc2query-T5 | 0.3647 | 0.3711 | 0.9751 |"
      ],
      "metadata": {
        "id": "4ucd78ufcviu"
      }
    },
    {
      "cell_type": "markdown",
      "source": [
        "## Install dependencies"
      ],
      "metadata": {
        "id": "_NfPlP4fFwuH"
      }
    },
    {
      "cell_type": "code",
      "source": [
        "from google.colab import auth\n",
        "auth.authenticate_user()"
      ],
      "metadata": {
        "id": "U4QbbuVnLisS"
      },
      "execution_count": 1,
      "outputs": []
    },
    {
      "cell_type": "code",
      "source": [
        "%%capture\n",
        "!pip install pyserini\n",
        "\n",
        "import os\n",
        "os.environ[\"JAVA_HOME\"] = \"/usr/lib/jvm/java-11-openjdk-amd64\""
      ],
      "metadata": {
        "id": "-ycV2g24xYhc"
      },
      "execution_count": 2,
      "outputs": []
    },
    {
      "cell_type": "code",
      "source": [
        "!pip install faiss-cpu"
      ],
      "metadata": {
        "colab": {
          "base_uri": "https://localhost:8080/"
        },
        "id": "IIH-U0TG26By",
        "outputId": "a3b91fb7-4467-4e08-9871-69aa3950b0ad"
      },
      "execution_count": 3,
      "outputs": [
        {
          "output_type": "stream",
          "name": "stdout",
          "text": [
            "Collecting faiss-cpu\n",
            "  Downloading faiss_cpu-1.7.2-cp37-cp37m-manylinux_2_17_x86_64.manylinux2014_x86_64.whl (8.6 MB)\n",
            "\u001b[K     |████████████████████████████████| 8.6 MB 14.9 MB/s \n",
            "\u001b[?25hInstalling collected packages: faiss-cpu\n",
            "Successfully installed faiss-cpu-1.7.2\n"
          ]
        }
      ]
    },
    {
      "cell_type": "markdown",
      "source": [
        "## DENSE RETRIEVAL"
      ],
      "metadata": {
        "id": "WRseg_mrg2Lt"
      }
    },
    {
      "cell_type": "markdown",
      "source": [
        "### Dense retrieval with TCT-ColBERT, brute-force index\n"
      ],
      "metadata": {
        "id": "o0SedQeVFsUY"
      }
    },
    {
      "cell_type": "code",
      "source": [
        "!python -m pyserini.dsearch --topics msmarco-passage-dev-subset \\\n",
        "                             --index msmarco-passage-tct_colbert-bf \\\n",
        "                             --encoded-queries tct_colbert-msmarco-passage-dev-subset \\\n",
        "                             --batch-size 36 \\\n",
        "                             --threads 12 \\\n",
        "                             --output run.msmarco-passage.tct_colbert.bf.tsv \\\n",
        "                             --output-format msmarco"
      ],
      "metadata": {
        "colab": {
          "base_uri": "https://localhost:8080/"
        },
        "id": "K_mAjElIvPRd",
        "outputId": "4d26df0c-c6ea-465f-b27e-ea14b349921d"
      },
      "execution_count": null,
      "outputs": [
        {
          "output_type": "stream",
          "name": "stdout",
          "text": [
            "Using pre-defined topic order for msmarco-passage-dev-subset\n",
            "Attempting to initialize pre-encoded queries tct_colbert-msmarco-passage-dev-subset.\n",
            "/root/.cache/pyserini/queries/query-embedding-tct_colbert-msmarco-passage-dev-subset-20210419-9323ec.b2fe6494241639153f26cc61acf3b39d already exists, skipping download.\n",
            "Initializing tct_colbert-msmarco-passage-dev-subset...\n",
            "Attempting to initialize pre-built index msmarco-passage-tct_colbert-bf.\n",
            "/root/.cache/pyserini/indexes/dindex-msmarco-passage-tct_colbert-bf-20210112-be7119.7312e0e7acec2a686e994902ca064fc5 already exists, skipping download.\n",
            "Initializing msmarco-passage-tct_colbert-bf...\n",
            "tcmalloc: large alloc 27162083328 bytes == 0x55deaf9b2000 @  0x7f1e52919887 0x7f1cc9410ce1 0x7f1cc94196b3 0x7f1cc92b7f90 0x55dea4ed9258 0x55dea500d18e 0x55dea50069ee 0x55dea4f99bda 0x55dea500bd00 0x55dea4f99afa 0x55dea5007c0d 0x55dea50069ee 0x55dea4f9a271 0x55dea4fdb159 0x55dea4fd80a4 0x55dea4f98c52 0x55dea500bc25 0x55dea4f99afa 0x55dea500bd00 0x55dea50069ee 0x55dea50066f3 0x55dea5004b60 0x55dea4f98349 0x55dea4f98240 0x55dea500b973 0x55dea50069ee 0x55dea4f99bda 0x55dea5007915 0x55dea50069ee 0x55dea4ed8eb0 0x55dea50aa581\n",
            "Attempting to initialize pre-built index msmarco-passage.\n",
            "Downloading index at https://rgw.cs.uwaterloo.ca/JIMMYLIN-bucket0/pyserini-indexes/index-msmarco-passage-20201117-f87c94.tar.gz...\n",
            "index-msmarco-passage-20201117-f87c94.tar.gz: 2.07GB [01:06, 33.2MB/s]                \n",
            "Extracting /root/.cache/pyserini/indexes/index-msmarco-passage-20201117-f87c94.tar.gz into /root/.cache/pyserini/indexes/index-msmarco-passage-20201117-f87c94.1efad4f1ae6a77e235042eff4be1612d...\n",
            "Initializing msmarco-passage...\n",
            "Running msmarco-passage-dev-subset topics, saving to run.msmarco-passage.tct_colbert.bf.tsv...\n",
            "100% 6980/6980 [55:29<00:00,  2.10it/s]\n"
          ]
        }
      ]
    },
    {
      "cell_type": "code",
      "source": [
        "!gsutil cp run.msmarco-passage.tct_colbert.bf.tsv gs://luanps/information_retrieval/pyserini/tct_colbert_bf/"
      ],
      "metadata": {
        "colab": {
          "base_uri": "https://localhost:8080/"
        },
        "id": "k9OI5KlzvYhK",
        "outputId": "2651ac97-c7bc-4de8-b5ea-10bd03c2a1f5"
      },
      "execution_count": null,
      "outputs": [
        {
          "output_type": "stream",
          "name": "stdout",
          "text": [
            "Copying file://run.msmarco-passage.tct_colbert.bf.tsv [Content-Type=text/tab-separated-values]...\n",
            "|\n",
            "Operation completed over 1 objects/127.0 MiB.                                    \n"
          ]
        }
      ]
    },
    {
      "cell_type": "markdown",
      "source": [
        "#### Evaluation"
      ],
      "metadata": {
        "id": "rCnE_TM0NgZ2"
      }
    },
    {
      "cell_type": "code",
      "source": [
        "#MRR Eval\n",
        "!python -m pyserini.eval.msmarco_passage_eval msmarco-passage-dev-subset run.msmarco-passage.tct_colbert.bf.tsv >> bf_mrr_eval.txt\n"
      ],
      "metadata": {
        "id": "sgJ9Kc2UM3Lm"
      },
      "execution_count": null,
      "outputs": []
    },
    {
      "cell_type": "code",
      "source": [
        "#TREC Eval\n",
        "!python -m pyserini.eval.convert_msmarco_run_to_trec_run --input run.msmarco-passage.tct_colbert.bf.tsv \\\n",
        "                                                         --output run.msmarco-passage.tct_colbert.bf.trec\n",
        "\n",
        "!python -m pyserini.eval.trec_eval -c -mrecall.1000 \\\n",
        "                                      -mmap msmarco-passage-dev-subset \\\n",
        "                                      run.msmarco-passage.tct_colbert.bf.trec >> bf_trec_eval.txt"
      ],
      "metadata": {
        "colab": {
          "base_uri": "https://localhost:8080/"
        },
        "id": "SXCWom8RNzZY",
        "outputId": "279ce159-d982-4780-e6b4-b69b76a9c20c"
      },
      "execution_count": null,
      "outputs": [
        {
          "output_type": "stream",
          "name": "stdout",
          "text": [
            "Done!\n"
          ]
        }
      ]
    },
    {
      "cell_type": "code",
      "source": [
        "!gsutil cp bf_trec_eval.txt bf_mrr_eval.txt gs://luanps/information_retrieval/pyserini/tct_colbert_bf/"
      ],
      "metadata": {
        "colab": {
          "base_uri": "https://localhost:8080/"
        },
        "id": "QxRQZK9OPkZU",
        "outputId": "d0603395-ddf9-44e8-83fc-245fce935d8a"
      },
      "execution_count": null,
      "outputs": [
        {
          "output_type": "stream",
          "name": "stdout",
          "text": [
            "Copying file://trec_eval.txt [Content-Type=text/plain]...\n",
            "Copying file://mrr_eval.txt [Content-Type=text/plain]...\n",
            "/ [2 files][  1.8 KiB/  1.8 KiB]                                                \n",
            "Operation completed over 2 objects/1.8 KiB.                                      \n"
          ]
        }
      ]
    },
    {
      "cell_type": "markdown",
      "source": [
        ""
      ],
      "metadata": {
        "id": "Xin5coIhgmEk"
      }
    },
    {
      "cell_type": "markdown",
      "source": [
        "### Dense retrieval with TCT-ColBERT, Hybrid Dense-Sparse Retrieval (HNSW) index\n"
      ],
      "metadata": {
        "id": "9UtPsIzJdiyh"
      }
    },
    {
      "cell_type": "code",
      "source": [
        "!python -m pyserini.dsearch --topics msmarco-passage-dev-subset \\\n",
        "                             --index msmarco-passage-tct_colbert-hnsw \\\n",
        "                             --output run.msmarco-passage.tct_colbert.hnsw.tsv \\\n",
        "                             --output-format msmarco "
      ],
      "metadata": {
        "colab": {
          "base_uri": "https://localhost:8080/"
        },
        "id": "cCV3BzNSdl7q",
        "outputId": "196740d8-7680-4ecb-98dd-c67f5523a177"
      },
      "execution_count": 5,
      "outputs": [
        {
          "metadata": {
            "tags": null
          },
          "name": "stdout",
          "output_type": "stream",
          "text": [
            "Using pre-defined topic order for msmarco-passage-dev-subset\n",
            "Attempting to initialize pre-encoded queries tct_colbert-msmarco-passage-dev-subset.\n",
            "Downloading index at https://github.com/castorini/pyserini-data/raw/main/encoded-queries/query-embedding-tct_colbert-msmarco-passage-dev-subset-20210419-9323ec.tar.gz...\n",
            "query-embedding-tct_colbert-msmarco-passage-dev-subset-20210419-9323ec.tar.gz: 19.2MB [00:01, 10.2MB/s]                  \n",
            "Extracting /root/.cache/pyserini/queries/query-embedding-tct_colbert-msmarco-passage-dev-subset-20210419-9323ec.tar.gz into /root/.cache/pyserini/queries/query-embedding-tct_colbert-msmarco-passage-dev-subset-20210419-9323ec.b2fe6494241639153f26cc61acf3b39d...\n",
            "Initializing tct_colbert-msmarco-passage-dev-subset...\n",
            "Attempting to initialize pre-built index msmarco-passage-tct_colbert-hnsw.\n",
            "Downloading index at https://rgw.cs.uwaterloo.ca/JIMMYLIN-bucket0/pyserini-indexes/dindex-msmarco-passage-tct_colbert-hnsw-20210112-be7119.tar.gz...\n",
            "dindex-msmarco-passage-tct_colbert-hnsw-20210112-be7119.tar.gz: 31.1GB [19:02, 29.2MB/s]                \n",
            "Extracting /root/.cache/pyserini/indexes/dindex-msmarco-passage-tct_colbert-hnsw-20210112-be7119.tar.gz into /root/.cache/pyserini/indexes/dindex-msmarco-passage-tct_colbert-hnsw-20210112-be7119.7e12ae728ea5f2ae6d1cfb88a8775ba8...\n",
            "Initializing msmarco-passage-tct_colbert-hnsw...\n",
            "tcmalloc: large alloc 18143682560 bytes == 0x55e0bd96e000 @  0x7f8068320887 0x7f7edee0f147 0x7f7edee14eda 0x7f7edee1cadb 0x7f7edee206b3 0x7f7edecbef90 0x55e0abdcc258 0x55e0abf0018e 0x55e0abef99ee 0x55e0abe8cbda 0x55e0abefed00 0x55e0abe8cafa 0x55e0abefac0d 0x55e0abef99ee 0x55e0abe8d271 0x55e0abece159 0x55e0abecb0a4 0x55e0abe8bc52 0x55e0abefec25 0x55e0abe8cafa 0x55e0abefed00 0x55e0abef99ee 0x55e0abef96f3 0x55e0abef7b60 0x55e0abe8b349 0x55e0abe8b240 0x55e0abefe973 0x55e0abef99ee 0x55e0abe8cbda 0x55e0abefa915 0x55e0abef99ee\n",
            "tcmalloc: large alloc 27162083328 bytes == 0x55e4f837e000 @  0x7f8068320887 0x7f7edee17ce1 0x7f7edee1cae6 0x7f7edee206b3 0x7f7edecbef90 0x55e0abdcc258 0x55e0abf0018e 0x55e0abef99ee 0x55e0abe8cbda 0x55e0abefed00 0x55e0abe8cafa 0x55e0abefac0d 0x55e0abef99ee 0x55e0abe8d271 0x55e0abece159 0x55e0abecb0a4 0x55e0abe8bc52 0x55e0abefec25 0x55e0abe8cafa 0x55e0abefed00 0x55e0abef99ee 0x55e0abef96f3 0x55e0abef7b60 0x55e0abe8b349 0x55e0abe8b240 0x55e0abefe973 0x55e0abef99ee 0x55e0abe8cbda 0x55e0abefa915 0x55e0abef99ee 0x55e0abdcbeb0\n",
            "Attempting to initialize pre-built index msmarco-passage.\n",
            "Downloading index at https://rgw.cs.uwaterloo.ca/JIMMYLIN-bucket0/pyserini-indexes/index-msmarco-passage-20201117-f87c94.tar.gz...\n",
            "index-msmarco-passage-20201117-f87c94.tar.gz: 2.07GB [01:14, 29.8MB/s]                \n",
            "Extracting /root/.cache/pyserini/indexes/index-msmarco-passage-20201117-f87c94.tar.gz into /root/.cache/pyserini/indexes/index-msmarco-passage-20201117-f87c94.1efad4f1ae6a77e235042eff4be1612d...\n",
            "Initializing msmarco-passage...\n",
            "Running msmarco-passage-dev-subset topics, saving to run.msmarco-passage.tct_colbert.hnsw.tsv...\n",
            "100% 6980/6980 [04:44<00:00, 24.57it/s]\n"
          ]
        }
      ]
    },
    {
      "cell_type": "code",
      "source": [
        "!gsutil cp run.msmarco-passage.tct_colbert.hnsw.tsv gs://luanps/information_retrieval/pyserini/tct_colbert_hnsw/"
      ],
      "metadata": {
        "colab": {
          "base_uri": "https://localhost:8080/"
        },
        "id": "FL44CvBJeE7b",
        "outputId": "83403fea-6916-467c-b980-c32a2ea05cab"
      },
      "execution_count": 6,
      "outputs": [
        {
          "metadata": {
            "tags": null
          },
          "name": "stdout",
          "output_type": "stream",
          "text": [
            "Copying file://run.msmarco-passage.tct_colbert.hnsw.tsv [Content-Type=text/tab-separated-values]...\n",
            "|\n",
            "Operation completed over 1 objects/127.0 MiB.                                    \n"
          ]
        }
      ]
    },
    {
      "cell_type": "markdown",
      "source": [
        "#### Evaluation"
      ],
      "metadata": {
        "id": "qXSB-WEdfB1J"
      }
    },
    {
      "cell_type": "code",
      "source": [
        "#MRR Eval\n",
        "!python -m pyserini.eval.msmarco_passage_eval msmarco-passage-dev-subset run.msmarco-passage.tct_colbert.hnsw.tsv >> hnsw_mrr_eval.txt\n"
      ],
      "metadata": {
        "colab": {
          "base_uri": "https://localhost:8080/"
        },
        "id": "1XBsTmV-e_0A",
        "outputId": "2dd9d0c0-0705-4cea-9840-50b79f048605"
      },
      "execution_count": 7,
      "outputs": [
        {
          "metadata": {
            "tags": null
          },
          "name": "stdout",
          "output_type": "stream",
          "text": [
            "msmarco_passage_eval.py: 8.00kB [00:00, 40.5kB/s]\n"
          ]
        }
      ]
    },
    {
      "cell_type": "code",
      "source": [
        "#TREC Eval\n",
        "!python -m pyserini.eval.convert_msmarco_run_to_trec_run --input run.msmarco-passage.tct_colbert.hnsw.tsv \\\n",
        "                                                         --output run.msmarco-passage.tct_colbert.hnsw.trec\n",
        "\n",
        "!python -m pyserini.eval.trec_eval -c -mrecall.1000 \\\n",
        "                                      -mmap msmarco-passage-dev-subset \\\n",
        "                                      run.msmarco-passage.tct_colbert.hnsw.trec >> hnsw_trec_eval.txt"
      ],
      "metadata": {
        "colab": {
          "base_uri": "https://localhost:8080/"
        },
        "id": "7fusW5M2fR96",
        "outputId": "1a406648-4486-487b-b345-739bb1f3b2bf"
      },
      "execution_count": 8,
      "outputs": [
        {
          "metadata": {
            "tags": null
          },
          "name": "stdout",
          "output_type": "stream",
          "text": [
            "Done!\n",
            "jtreceval-0.0.5-jar-with-dependencies.jar: 1.79MB [00:00, 4.39MB/s]                \n"
          ]
        }
      ]
    },
    {
      "cell_type": "code",
      "source": [
        "!gsutil cp hnsw_trec_eval.txt hnsw_mrr_eval.txt gs://luanps/information_retrieval/pyserini/tct_colbert_hnsw/"
      ],
      "metadata": {
        "colab": {
          "base_uri": "https://localhost:8080/"
        },
        "id": "_wfge16IfqL9",
        "outputId": "5fdc4fdc-25e8-4af0-8c93-9c11263dcfab"
      },
      "execution_count": 9,
      "outputs": [
        {
          "metadata": {
            "tags": null
          },
          "name": "stdout",
          "output_type": "stream",
          "text": [
            "Copying file://hnsw_trec_eval.txt [Content-Type=text/plain]...\n",
            "Copying file://hnsw_mrr_eval.txt [Content-Type=text/plain]...\n",
            "/ [2 files][  1.0 KiB/  1.0 KiB]                                                \n",
            "Operation completed over 2 objects/1.0 KiB.                                      \n"
          ]
        }
      ]
    },
    {
      "cell_type": "markdown",
      "source": [
        "## HYBRID DENSE-SPARSE RETRIEVAL"
      ],
      "metadata": {
        "id": "I4xOzzZkhIjS"
      }
    },
    {
      "cell_type": "markdown",
      "source": [
        "## Hybrid retrieval with dense-sparse representations (without document expansion):\n",
        "\n",
        "- dense retrieval with TCT-ColBERT, brute force index.\n",
        "- sparse retrieval with BM25 msmarco-passage (i.e., default bag-of-words) index.\n"
      ],
      "metadata": {
        "id": "yW4XWJHZf8yx"
      }
    },
    {
      "cell_type": "code",
      "source": [
        "!python -m pyserini.hsearch dense  --index msmarco-passage-tct_colbert-bf \\\n",
        "                                    --encoded-queries tct_colbert-msmarco-passage-dev-subset \\\n",
        "                             sparse --index msmarco-passage \\\n",
        "                             fusion --alpha 0.12 \\\n",
        "                             run    --topics msmarco-passage-dev-subset \\\n",
        "                                    --output run.msmarco-passage.tct_colbert.bf.bm25.tsv \\\n",
        "                                    --batch-size 36 --threads 12 \\\n",
        "                                    --output-format msmarco"
      ],
      "metadata": {
        "outputId": "6a8cab6e-8e8c-4163-9217-491324ddc745",
        "colab": {
          "base_uri": "https://localhost:8080/"
        },
        "id": "AXmcW19Kf8yx"
      },
      "execution_count": 10,
      "outputs": [
        {
          "output_type": "stream",
          "name": "stdout",
          "text": [
            "Using pre-defined topic order for msmarco-passage-dev-subset\n",
            "Attempting to initialize pre-encoded queries tct_colbert-msmarco-passage-dev-subset.\n",
            "/root/.cache/pyserini/queries/query-embedding-tct_colbert-msmarco-passage-dev-subset-20210419-9323ec.b2fe6494241639153f26cc61acf3b39d already exists, skipping download.\n",
            "Initializing tct_colbert-msmarco-passage-dev-subset...\n",
            "Attempting to initialize pre-built index msmarco-passage-tct_colbert-bf.\n",
            "Downloading index at https://rgw.cs.uwaterloo.ca/JIMMYLIN-bucket0/pyserini-indexes/dindex-msmarco-passage-tct_colbert-bf-20210112-be7119.tar.gz...\n",
            "dindex-msmarco-passage-tct_colbert-bf-20210112-be7119.tar.gz: 23.5GB [16:16, 25.8MB/s]                \n",
            "Extracting /root/.cache/pyserini/indexes/dindex-msmarco-passage-tct_colbert-bf-20210112-be7119.tar.gz into /root/.cache/pyserini/indexes/dindex-msmarco-passage-tct_colbert-bf-20210112-be7119.7312e0e7acec2a686e994902ca064fc5...\n",
            "Initializing msmarco-passage-tct_colbert-bf...\n",
            "tcmalloc: large alloc 27162083328 bytes == 0x55d2e298a000 @  0x7f2f59abf887 0x7f2ed0474ce1 0x7f2ed047d6b3 0x7f2ed031bf90 0x55d2d7a24258 0x55d2d7b5818e 0x55d2d7b519ee 0x55d2d7ae4bda 0x55d2d7b56d00 0x55d2d7ae4afa 0x55d2d7b52c0d 0x55d2d7b519ee 0x55d2d7ae5271 0x55d2d7b26159 0x55d2d7b230a4 0x55d2d7ae3c52 0x55d2d7b56c25 0x55d2d7ae4afa 0x55d2d7b56d00 0x55d2d7b519ee 0x55d2d7b516f3 0x55d2d7b4fb60 0x55d2d7ae3349 0x55d2d7ae3240 0x55d2d7b56973 0x55d2d7b519ee 0x55d2d7ae4bda 0x55d2d7b52915 0x55d2d7b519ee 0x55d2d7a23eb0 0x55d2d7bf5581\n",
            "Attempting to initialize pre-built index msmarco-passage.\n",
            "/root/.cache/pyserini/indexes/index-msmarco-passage-20201117-f87c94.1efad4f1ae6a77e235042eff4be1612d already exists, skipping download.\n",
            "Initializing msmarco-passage...\n",
            "Attempting to initialize pre-built index msmarco-passage.\n",
            "/root/.cache/pyserini/indexes/index-msmarco-passage-20201117-f87c94.1efad4f1ae6a77e235042eff4be1612d already exists, skipping download.\n",
            "Initializing msmarco-passage...\n",
            "MS MARCO passage: setting k1=0.82, b=0.68\n",
            "Running msmarco-passage-dev-subset topics, saving to run.msmarco-passage.tct_colbert.bf.bm25.tsv...\n",
            "100% 6980/6980 [51:55<00:00,  2.24it/s]\n"
          ]
        }
      ]
    },
    {
      "cell_type": "code",
      "source": [
        "!gsutil cp run.msmarco-passage.tct_colbert.bf.bm25.tsv gs://luanps/information_retrieval/pyserini/tct_colbert_bf_bm25/"
      ],
      "metadata": {
        "colab": {
          "base_uri": "https://localhost:8080/"
        },
        "id": "4q2qrI8Sf8yy",
        "outputId": "c80980e0-94a8-458d-a147-ab060dab60ec"
      },
      "execution_count": 11,
      "outputs": [
        {
          "output_type": "stream",
          "name": "stdout",
          "text": [
            "Copying file://run.msmarco-passage.tct_colbert.bf.bm25.tsv [Content-Type=text/tab-separated-values]...\n",
            "\\ [1 files][127.0 MiB/127.0 MiB]                                                \n",
            "Operation completed over 1 objects/127.0 MiB.                                    \n"
          ]
        }
      ]
    },
    {
      "cell_type": "markdown",
      "source": [
        "### Evaluation"
      ],
      "metadata": {
        "id": "95XcrVvHf8yy"
      }
    },
    {
      "cell_type": "code",
      "source": [
        "#MRR Eval\n",
        "!python -m pyserini.eval.msmarco_passage_eval msmarco-passage-dev-subset run.msmarco-passage.tct_colbert.bf.bm25.tsv >> bf_bm25_mrr_eval.txt\n"
      ],
      "metadata": {
        "id": "d5wjMkwqf8yy"
      },
      "execution_count": 12,
      "outputs": []
    },
    {
      "cell_type": "code",
      "source": [
        "#TREC Eval\n",
        "!python -m pyserini.eval.convert_msmarco_run_to_trec_run --input run.msmarco-passage.tct_colbert.bf.bm25.tsv \\\n",
        "                                                         --output run.msmarco-passage.tct_colbert.bf.bm25.trec\n",
        "\n",
        "!python -m pyserini.eval.trec_eval -c -mrecall.1000 \\\n",
        "                                      -mmap msmarco-passage-dev-subset \\\n",
        "                                      run.msmarco-passage.tct_colbert.bf.bm25.trec >> bf_bm25_trec_eval.txt"
      ],
      "metadata": {
        "colab": {
          "base_uri": "https://localhost:8080/"
        },
        "id": "6WXyR8tSf8yy",
        "outputId": "cd2425cd-8641-4027-b814-a6b6334cff3e"
      },
      "execution_count": 13,
      "outputs": [
        {
          "output_type": "stream",
          "name": "stdout",
          "text": [
            "Done!\n"
          ]
        }
      ]
    },
    {
      "cell_type": "code",
      "source": [
        "!gsutil cp bf_bm25_trec_eval.txt bf_bm25_mrr_eval.txt gs://luanps/information_retrieval/pyserini/tct_colbert_bf_bm25/"
      ],
      "metadata": {
        "colab": {
          "base_uri": "https://localhost:8080/"
        },
        "id": "20cBprvmf8yy",
        "outputId": "a8087aeb-0098-4e6d-8951-9d938409545e"
      },
      "execution_count": 14,
      "outputs": [
        {
          "output_type": "stream",
          "name": "stdout",
          "text": [
            "Copying file://bf_bm25_trec_eval.txt [Content-Type=text/plain]...\n",
            "Copying file://bf_bm25_mrr_eval.txt [Content-Type=text/plain]...\n",
            "/ [2 files][  1.2 KiB/  1.2 KiB]                                                \n",
            "Operation completed over 2 objects/1.2 KiB.                                      \n"
          ]
        }
      ]
    },
    {
      "cell_type": "markdown",
      "source": [
        "## Hybrid retrieval with dense-sparse representations (with document expansion):\n",
        "\n",
        "- dense retrieval with TCT-ColBERT, brute force index.\n",
        "- sparse retrieval with doc2query-T5 expanded index.\n"
      ],
      "metadata": {
        "id": "pva6yVNkie5E"
      }
    },
    {
      "cell_type": "code",
      "source": [
        "!python -m pyserini.hsearch dense  --index msmarco-passage-tct_colbert-bf \\\n",
        "                                    --encoded-queries tct_colbert-msmarco-passage-dev-subset \\\n",
        "                             sparse --index msmarco-passage-expanded \\\n",
        "                             fusion --alpha 0.22 \\\n",
        "                             run    --topics msmarco-passage-dev-subset \\\n",
        "                                    --output run.msmarco-passage.tct_colbert.bf.doc2queryT5.tsv \\\n",
        "                                    --batch-size 36 --threads 12 \\\n",
        "                                    --output-format msmarco"
      ],
      "metadata": {
        "outputId": "0d7fd7b1-dba1-4b60-cb9c-2e97718e5513",
        "colab": {
          "base_uri": "https://localhost:8080/"
        },
        "id": "8arCs1joie5F"
      },
      "execution_count": 15,
      "outputs": [
        {
          "output_type": "stream",
          "name": "stdout",
          "text": [
            "Using pre-defined topic order for msmarco-passage-dev-subset\n",
            "Attempting to initialize pre-encoded queries tct_colbert-msmarco-passage-dev-subset.\n",
            "/root/.cache/pyserini/queries/query-embedding-tct_colbert-msmarco-passage-dev-subset-20210419-9323ec.b2fe6494241639153f26cc61acf3b39d already exists, skipping download.\n",
            "Initializing tct_colbert-msmarco-passage-dev-subset...\n",
            "Attempting to initialize pre-built index msmarco-passage-tct_colbert-bf.\n",
            "/root/.cache/pyserini/indexes/dindex-msmarco-passage-tct_colbert-bf-20210112-be7119.7312e0e7acec2a686e994902ca064fc5 already exists, skipping download.\n",
            "Initializing msmarco-passage-tct_colbert-bf...\n",
            "tcmalloc: large alloc 27162083328 bytes == 0x560f2e8ce000 @  0x7f8ed3b43887 0x7f8e4a5f9ce1 0x7f8e4a6026b3 0x7f8e4a4a0f90 0x560f22ebc258 0x560f22ff018e 0x560f22fe99ee 0x560f22f7cbda 0x560f22feed00 0x560f22f7cafa 0x560f22feac0d 0x560f22fe99ee 0x560f22f7d271 0x560f22fbe159 0x560f22fbb0a4 0x560f22f7bc52 0x560f22feec25 0x560f22f7cafa 0x560f22feed00 0x560f22fe99ee 0x560f22fe96f3 0x560f22fe7b60 0x560f22f7b349 0x560f22f7b240 0x560f22fee973 0x560f22fe99ee 0x560f22f7cbda 0x560f22fea915 0x560f22fe99ee 0x560f22ebbeb0 0x560f2308d581\n",
            "Attempting to initialize pre-built index msmarco-passage.\n",
            "/root/.cache/pyserini/indexes/index-msmarco-passage-20201117-f87c94.1efad4f1ae6a77e235042eff4be1612d already exists, skipping download.\n",
            "Initializing msmarco-passage...\n",
            "Attempting to initialize pre-built index msmarco-passage-expanded.\n",
            "Downloading index at https://rgw.cs.uwaterloo.ca/JIMMYLIN-bucket0/pyserini-indexes/index-msmarco-passage-expanded-20201121-e127fb.tar.gz...\n",
            "index-msmarco-passage-expanded-20201121-e127fb.tar.gz: 779MB [00:27, 30.0MB/s]               \n",
            "Extracting /root/.cache/pyserini/indexes/index-msmarco-passage-expanded-20201121-e127fb.tar.gz into /root/.cache/pyserini/indexes/index-msmarco-passage-expanded-20201121-e127fb.e5762e9e065b6fe5000f9c18da778565...\n",
            "Initializing msmarco-passage-expanded...\n",
            "MS MARCO passage w/ doc2query-T5 expansion: setting k1=2.18, b=0.86\n",
            "Running msmarco-passage-dev-subset topics, saving to run.msmarco-passage.tct_colbert.bf.doc2queryT5.tsv...\n",
            "100% 6980/6980 [52:13<00:00,  2.23it/s]\n"
          ]
        }
      ]
    },
    {
      "cell_type": "code",
      "source": [
        "!gsutil cp run.msmarco-passage.tct_colbert.bf.doc2queryT5.tsv gs://luanps/information_retrieval/pyserini/tct_colbert_bf_doc2queryT5/"
      ],
      "metadata": {
        "colab": {
          "base_uri": "https://localhost:8080/"
        },
        "id": "jCK4OrjEie5G",
        "outputId": "1ebef40c-d730-4412-cd9a-2496dd3bcc98"
      },
      "execution_count": 16,
      "outputs": [
        {
          "output_type": "stream",
          "name": "stdout",
          "text": [
            "Copying file://run.msmarco-passage.tct_colbert.bf.doc2queryT5.tsv [Content-Type=text/tab-separated-values]...\n",
            "-\n",
            "Operation completed over 1 objects/127.0 MiB.                                    \n"
          ]
        }
      ]
    },
    {
      "cell_type": "markdown",
      "source": [
        "### Evaluation"
      ],
      "metadata": {
        "id": "dZRX2JNyie5G"
      }
    },
    {
      "cell_type": "code",
      "source": [
        "#MRR Eval\n",
        "!python -m pyserini.eval.msmarco_passage_eval msmarco-passage-dev-subset run.msmarco-passage.tct_colbert.bf.doc2queryT5.tsv >> bf_doc2queryT5_mrr_eval.txt\n"
      ],
      "metadata": {
        "id": "hdkS1UsRie5G"
      },
      "execution_count": 17,
      "outputs": []
    },
    {
      "cell_type": "code",
      "source": [
        "#TREC Eval\n",
        "!python -m pyserini.eval.convert_msmarco_run_to_trec_run --input run.msmarco-passage.tct_colbert.bf.doc2queryT5.tsv \\\n",
        "                                                         --output run.msmarco-passage.tct_colbert.bf.doc2queryT5.trec\n",
        "\n",
        "!python -m pyserini.eval.trec_eval -c -mrecall.1000 \\\n",
        "                                      -mmap msmarco-passage-dev-subset \\\n",
        "                                      run.msmarco-passage.tct_colbert.bf.doc2queryT5.trec >> bf_doc2queryT5_trec_eval.txt"
      ],
      "metadata": {
        "colab": {
          "base_uri": "https://localhost:8080/"
        },
        "id": "VH8eXJqLie5G",
        "outputId": "ea52350c-8ff7-4f49-8aae-3cadd0688341"
      },
      "execution_count": 18,
      "outputs": [
        {
          "output_type": "stream",
          "name": "stdout",
          "text": [
            "Done!\n"
          ]
        }
      ]
    },
    {
      "cell_type": "code",
      "source": [
        "!gsutil cp bf_doc2queryT5_trec_eval.txt bf_doc2queryT5_mrr_eval.txt gs://luanps/information_retrieval/pyserini/tct_colbert_bf_doc2queryT5/"
      ],
      "metadata": {
        "colab": {
          "base_uri": "https://localhost:8080/"
        },
        "id": "A-AgNK8uie5H",
        "outputId": "6526ede6-4bd4-4029-e004-349e82d7384d"
      },
      "execution_count": 20,
      "outputs": [
        {
          "output_type": "stream",
          "name": "stdout",
          "text": [
            "Copying file://bf_doc2queryT5_trec_eval.txt [Content-Type=text/plain]...\n",
            "Copying file://bf_doc2queryT5_mrr_eval.txt [Content-Type=text/plain]...\n",
            "/ [2 files][  1.2 KiB/  1.2 KiB]                                                \n",
            "Operation completed over 2 objects/1.2 KiB.                                      \n"
          ]
        }
      ]
    }
  ]
}