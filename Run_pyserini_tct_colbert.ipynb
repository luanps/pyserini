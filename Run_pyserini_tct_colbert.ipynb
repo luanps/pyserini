{
  "nbformat": 4,
  "nbformat_minor": 0,
  "metadata": {
    "colab": {
      "name": "Run pyserini - tct_colbert.ipynb",
      "provenance": [],
      "machine_shape": "hm",
      "background_execution": "on",
      "toc_visible": true,
      "authorship_tag": "ABX9TyOqzDnxHw5bCQn994NAHugT",
      "include_colab_link": true
    },
    "kernelspec": {
      "name": "python3",
      "display_name": "Python 3"
    },
    "language_info": {
      "name": "python"
    },
    "accelerator": "GPU"
  },
  "cells": [
    {
      "cell_type": "markdown",
      "metadata": {
        "id": "view-in-github",
        "colab_type": "text"
      },
      "source": [
        "<a href=\"https://colab.research.google.com/github/luanps/pyserini/blob/master/Run_pyserini_tct_colbert.ipynb\" target=\"_parent\"><img src=\"https://colab.research.google.com/assets/colab-badge.svg\" alt=\"Open In Colab\"/></a>"
      ]
    },
    {
      "cell_type": "markdown",
      "source": [
        "\n",
        "# TCT Colbert Passage Ranking on MSMARCO\n",
        "\n",
        "Sheng-Chieh Lin, Jheng-Hong Yang, and Jimmy Lin. Distilling Dense Representations for Ranking using Tightly-Coupled Teachers. arXiv:2010.11386, October 2020.\n"
      ],
      "metadata": {
        "id": "4ucd78ufcviu"
      }
    },
    {
      "cell_type": "markdown",
      "source": [
        "## Install dependencies"
      ],
      "metadata": {
        "id": "_NfPlP4fFwuH"
      }
    },
    {
      "cell_type": "code",
      "source": [
        "from google.colab import auth\n",
        "auth.authenticate_user()"
      ],
      "metadata": {
        "id": "U4QbbuVnLisS"
      },
      "execution_count": null,
      "outputs": []
    },
    {
      "cell_type": "code",
      "source": [
        "%%capture\n",
        "!pip install pyserini\n",
        "\n",
        "import os\n",
        "os.environ[\"JAVA_HOME\"] = \"/usr/lib/jvm/java-11-openjdk-amd64\""
      ],
      "metadata": {
        "id": "-ycV2g24xYhc"
      },
      "execution_count": null,
      "outputs": []
    },
    {
      "cell_type": "code",
      "source": [
        "!pip install faiss-cpu"
      ],
      "metadata": {
        "colab": {
          "base_uri": "https://localhost:8080/"
        },
        "id": "IIH-U0TG26By",
        "outputId": "7f77630e-fe24-480a-93f4-9819489daeea"
      },
      "execution_count": null,
      "outputs": [
        {
          "output_type": "stream",
          "name": "stdout",
          "text": [
            "Collecting faiss-cpu\n",
            "  Downloading faiss_cpu-1.7.2-cp37-cp37m-manylinux_2_17_x86_64.manylinux2014_x86_64.whl (8.6 MB)\n",
            "\u001b[K     |████████████████████████████████| 8.6 MB 4.5 MB/s \n",
            "\u001b[?25hInstalling collected packages: faiss-cpu\n",
            "Successfully installed faiss-cpu-1.7.2\n"
          ]
        }
      ]
    },
    {
      "cell_type": "markdown",
      "source": [
        "## Dense retrieval with TCT-ColBERT, brute-force index"
      ],
      "metadata": {
        "id": "o0SedQeVFsUY"
      }
    },
    {
      "cell_type": "code",
      "source": [
        "!python -m pyserini.dsearch --topics msmarco-passage-dev-subset \\\n",
        "                             --index msmarco-passage-tct_colbert-bf \\\n",
        "                             --encoded-queries tct_colbert-msmarco-passage-dev-subset \\\n",
        "                             --batch-size 36 \\\n",
        "                             --threads 12 \\\n",
        "                             --output run.msmarco-passage.tct_colbert.bf.tsv \\\n",
        "                             --output-format msmarco"
      ],
      "metadata": {
        "colab": {
          "base_uri": "https://localhost:8080/"
        },
        "id": "K_mAjElIvPRd",
        "outputId": "4d26df0c-c6ea-465f-b27e-ea14b349921d"
      },
      "execution_count": null,
      "outputs": [
        {
          "output_type": "stream",
          "name": "stdout",
          "text": [
            "Using pre-defined topic order for msmarco-passage-dev-subset\n",
            "Attempting to initialize pre-encoded queries tct_colbert-msmarco-passage-dev-subset.\n",
            "/root/.cache/pyserini/queries/query-embedding-tct_colbert-msmarco-passage-dev-subset-20210419-9323ec.b2fe6494241639153f26cc61acf3b39d already exists, skipping download.\n",
            "Initializing tct_colbert-msmarco-passage-dev-subset...\n",
            "Attempting to initialize pre-built index msmarco-passage-tct_colbert-bf.\n",
            "/root/.cache/pyserini/indexes/dindex-msmarco-passage-tct_colbert-bf-20210112-be7119.7312e0e7acec2a686e994902ca064fc5 already exists, skipping download.\n",
            "Initializing msmarco-passage-tct_colbert-bf...\n",
            "tcmalloc: large alloc 27162083328 bytes == 0x55deaf9b2000 @  0x7f1e52919887 0x7f1cc9410ce1 0x7f1cc94196b3 0x7f1cc92b7f90 0x55dea4ed9258 0x55dea500d18e 0x55dea50069ee 0x55dea4f99bda 0x55dea500bd00 0x55dea4f99afa 0x55dea5007c0d 0x55dea50069ee 0x55dea4f9a271 0x55dea4fdb159 0x55dea4fd80a4 0x55dea4f98c52 0x55dea500bc25 0x55dea4f99afa 0x55dea500bd00 0x55dea50069ee 0x55dea50066f3 0x55dea5004b60 0x55dea4f98349 0x55dea4f98240 0x55dea500b973 0x55dea50069ee 0x55dea4f99bda 0x55dea5007915 0x55dea50069ee 0x55dea4ed8eb0 0x55dea50aa581\n",
            "Attempting to initialize pre-built index msmarco-passage.\n",
            "Downloading index at https://rgw.cs.uwaterloo.ca/JIMMYLIN-bucket0/pyserini-indexes/index-msmarco-passage-20201117-f87c94.tar.gz...\n",
            "index-msmarco-passage-20201117-f87c94.tar.gz: 2.07GB [01:06, 33.2MB/s]                \n",
            "Extracting /root/.cache/pyserini/indexes/index-msmarco-passage-20201117-f87c94.tar.gz into /root/.cache/pyserini/indexes/index-msmarco-passage-20201117-f87c94.1efad4f1ae6a77e235042eff4be1612d...\n",
            "Initializing msmarco-passage...\n",
            "Running msmarco-passage-dev-subset topics, saving to run.msmarco-passage.tct_colbert.bf.tsv...\n",
            "100% 6980/6980 [55:29<00:00,  2.10it/s]\n"
          ]
        }
      ]
    },
    {
      "cell_type": "code",
      "source": [
        "!gsutil cp run.* gs://luanps/information_retrieval/pyserini/tct_colbert_bf/"
      ],
      "metadata": {
        "colab": {
          "base_uri": "https://localhost:8080/"
        },
        "id": "k9OI5KlzvYhK",
        "outputId": "2651ac97-c7bc-4de8-b5ea-10bd03c2a1f5"
      },
      "execution_count": null,
      "outputs": [
        {
          "output_type": "stream",
          "name": "stdout",
          "text": [
            "Copying file://run.msmarco-passage.tct_colbert.bf.tsv [Content-Type=text/tab-separated-values]...\n",
            "|\n",
            "Operation completed over 1 objects/127.0 MiB.                                    \n"
          ]
        }
      ]
    },
    {
      "cell_type": "markdown",
      "source": [
        "### Evaluation"
      ],
      "metadata": {
        "id": "rCnE_TM0NgZ2"
      }
    },
    {
      "cell_type": "code",
      "source": [
        "#MRR Eval\n",
        "!python -m pyserini.eval.msmarco_passage_eval msmarco-passage-dev-subset run.msmarco-passage.tct_colbert.bf.tsv >> mrr_eval.txt\n"
      ],
      "metadata": {
        "id": "sgJ9Kc2UM3Lm"
      },
      "execution_count": null,
      "outputs": []
    },
    {
      "cell_type": "code",
      "source": [
        "#TREC Eval\n",
        "!python -m pyserini.eval.convert_msmarco_run_to_trec_run --input run.msmarco-passage.tct_colbert.bf.tsv \\\n",
        "                                                         --output run.msmarco-passage.tct_colbert.bf.trec\n",
        "\n",
        "!python -m pyserini.eval.trec_eval -c -mrecall.1000 \\\n",
        "                                      -mmap msmarco-passage-dev-subset \\\n",
        "                                      run.msmarco-passage.tct_colbert.bf.trec >> trec_eval.txt"
      ],
      "metadata": {
        "colab": {
          "base_uri": "https://localhost:8080/"
        },
        "id": "SXCWom8RNzZY",
        "outputId": "279ce159-d982-4780-e6b4-b69b76a9c20c"
      },
      "execution_count": null,
      "outputs": [
        {
          "output_type": "stream",
          "name": "stdout",
          "text": [
            "Done!\n"
          ]
        }
      ]
    },
    {
      "cell_type": "code",
      "source": [
        "!head run.msmarco-passage.tct_colbert.bf.trec"
      ],
      "metadata": {
        "colab": {
          "base_uri": "https://localhost:8080/"
        },
        "id": "I0LxEWsdOjG4",
        "outputId": "172d1f8e-a47c-4f99-96dd-aaff389da7b8"
      },
      "execution_count": null,
      "outputs": [
        {
          "output_type": "stream",
          "name": "stdout",
          "text": [
            "1048585 Q0 7187155 1 1.0 anserini\n",
            "1048585 Q0 7187157 2 0.5 anserini\n",
            "1048585 Q0 3856131 3 0.3333333333333333 anserini\n",
            "1048585 Q0 7187158 4 0.25 anserini\n",
            "1048585 Q0 7617411 5 0.2 anserini\n",
            "1048585 Q0 7187160 6 0.16666666666666666 anserini\n",
            "1048585 Q0 7617413 7 0.14285714285714285 anserini\n",
            "1048585 Q0 7617404 8 0.125 anserini\n",
            "1048585 Q0 7411281 9 0.1111111111111111 anserini\n",
            "1048585 Q0 4072826 10 0.1 anserini\n"
          ]
        }
      ]
    },
    {
      "cell_type": "code",
      "source": [
        "!gsutil cp trec_eval.txt mrr_eval.txt gs://luanps/information_retrieval/pyserini/tct_colbert_bf/"
      ],
      "metadata": {
        "colab": {
          "base_uri": "https://localhost:8080/"
        },
        "id": "QxRQZK9OPkZU",
        "outputId": "d0603395-ddf9-44e8-83fc-245fce935d8a"
      },
      "execution_count": null,
      "outputs": [
        {
          "output_type": "stream",
          "name": "stdout",
          "text": [
            "Copying file://trec_eval.txt [Content-Type=text/plain]...\n",
            "Copying file://mrr_eval.txt [Content-Type=text/plain]...\n",
            "/ [2 files][  1.8 KiB/  1.8 KiB]                                                \n",
            "Operation completed over 2 objects/1.8 KiB.                                      \n"
          ]
        }
      ]
    }
  ]
}