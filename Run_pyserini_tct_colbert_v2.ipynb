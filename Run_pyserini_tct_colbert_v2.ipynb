{
  "nbformat": 4,
  "nbformat_minor": 0,
  "metadata": {
    "colab": {
      "name": "Run pyserini - tct_colbert_v2.ipynb",
      "provenance": [],
      "machine_shape": "hm",
      "background_execution": "on",
      "authorship_tag": "ABX9TyO+mR280PpUTbTaetMjSeN/",
      "include_colab_link": true
    },
    "kernelspec": {
      "name": "python3",
      "display_name": "Python 3"
    },
    "language_info": {
      "name": "python"
    },
    "accelerator": "GPU"
  },
  "cells": [
    {
      "cell_type": "markdown",
      "metadata": {
        "id": "view-in-github",
        "colab_type": "text"
      },
      "source": [
        "<a href=\"https://colab.research.google.com/github/luanps/pyserini/blob/master/Run_pyserini_tct_colbert_v2.ipynb\" target=\"_parent\"><img src=\"https://colab.research.google.com/assets/colab-badge.svg\" alt=\"Open In Colab\"/></a>"
      ]
    },
    {
      "cell_type": "markdown",
      "source": [
        "\n",
        "# TCT Colbert V2 Passage Ranking on MSMARCO\n",
        "\n",
        "Sheng-Chieh Lin, Jheng-Hong Yang, and Jimmy Lin. In-Batch Negatives for Knowledge Distillation with Tightly-CoupledTeachers for Dense Retrieval. Proceedings of the 6th Workshop on Representation Learning for NLP (RepL4NLP-2021), pages 163-173, August 2021.\n",
        "\n",
        "\n",
        "Summary of results (figures from the paper are in parentheses):\n",
        "\n",
        "| Condition | MRR@10 (paper) | MAP | Recall@1000 |\n",
        "|:----------|-------:|----:|------------:|\n",
        "| TCT_ColBERT-V2 (brute-force index) |  0.3440 (0.344) | 0.3509 | 0.9670 |\n",
        "| TCT_ColBERT-V2-HN (brute-force index) |  0.3543 (0.354) | 0.3608 | 0.9708 |\n",
        "| TCT_ColBERT-V2-HN+ (brute-force index) | 0.3585 (0.359) | 0.3645 | 0.9695 |\n",
        "| TCT_ColBERT-V2-HN+ (brute-force index) + BoW BM25 | 0.3682 (0.369)  | 0.3737 | 0.9707 |\n",
        "| TCT_ColBERT-V2-HN+ (brute-force index) + BM25 w/ doc2query-T5 | 0.3731 (0.375) | 0.3789 | 0.9759 |"
      ],
      "metadata": {
        "id": "4ucd78ufcviu"
      }
    },
    {
      "cell_type": "markdown",
      "source": [
        "## Install dependencies"
      ],
      "metadata": {
        "id": "_NfPlP4fFwuH"
      }
    },
    {
      "cell_type": "code",
      "source": [
        "from google.colab import auth\n",
        "auth.authenticate_user()"
      ],
      "metadata": {
        "id": "U4QbbuVnLisS"
      },
      "execution_count": 6,
      "outputs": []
    },
    {
      "cell_type": "code",
      "source": [
        "%%capture\n",
        "!pip install pyserini\n",
        "\n",
        "import os\n",
        "os.environ[\"JAVA_HOME\"] = \"/usr/lib/jvm/java-11-openjdk-amd64\""
      ],
      "metadata": {
        "id": "-ycV2g24xYhc"
      },
      "execution_count": 7,
      "outputs": []
    },
    {
      "cell_type": "code",
      "source": [
        "!pip install faiss-cpu"
      ],
      "metadata": {
        "colab": {
          "base_uri": "https://localhost:8080/"
        },
        "id": "IIH-U0TG26By",
        "outputId": "e3b98e18-7f41-4c94-b833-745627256df1"
      },
      "execution_count": 8,
      "outputs": [
        {
          "output_type": "stream",
          "name": "stdout",
          "text": [
            "Collecting faiss-cpu\n",
            "  Downloading faiss_cpu-1.7.2-cp37-cp37m-manylinux_2_17_x86_64.manylinux2014_x86_64.whl (8.6 MB)\n",
            "\u001b[K     |████████████████████████████████| 8.6 MB 9.0 MB/s \n",
            "\u001b[?25hInstalling collected packages: faiss-cpu\n",
            "Successfully installed faiss-cpu-1.7.2\n"
          ]
        }
      ]
    },
    {
      "cell_type": "markdown",
      "source": [
        "## DENSE RETRIEVAL"
      ],
      "metadata": {
        "id": "WRseg_mrg2Lt"
      }
    },
    {
      "cell_type": "markdown",
      "source": [
        "### Dense retrieval with TCT-ColBERT V2, brute-force index\n"
      ],
      "metadata": {
        "id": "o0SedQeVFsUY"
      }
    },
    {
      "cell_type": "code",
      "source": [
        "!python -m pyserini.dsearch --topics msmarco-passage-dev-subset \\\n",
        "                             --index msmarco-passage-tct_colbert-v2-bf \\\n",
        "                             --encoded-queries tct_colbert-v2-msmarco-passage-dev-subset \\\n",
        "                             --batch-size 36 \\\n",
        "                             --threads 12 \\\n",
        "                             --output run.msmarco-passage.tct_colbert-v2.bf.tsv \\\n",
        "                             --output-format msmarco"
      ],
      "metadata": {
        "colab": {
          "base_uri": "https://localhost:8080/"
        },
        "id": "K_mAjElIvPRd",
        "outputId": "1b9e6cb8-ea72-457e-f1ab-b13373dee065"
      },
      "execution_count": 4,
      "outputs": [
        {
          "output_type": "stream",
          "name": "stdout",
          "text": [
            "Using pre-defined topic order for msmarco-passage-dev-subset\n",
            "Attempting to initialize pre-encoded queries tct_colbert-v2-msmarco-passage-dev-subset.\n",
            "Downloading index at https://github.com/castorini/pyserini-data/raw/main/encoded-queries/query-embedding-tct_colbert-v2-msmarco-passage-dev-subset-20210608-5f341b.tar.gz...\n",
            "query-embedding-tct_colbert-v2-msmarco-passage-dev-subset-20210608-5f341b.tar.gz: 19.1MB [00:03, 6.20MB/s]                \n",
            "Extracting /root/.cache/pyserini/queries/query-embedding-tct_colbert-v2-msmarco-passage-dev-subset-20210608-5f341b.tar.gz into /root/.cache/pyserini/queries/query-embedding-tct_colbert-v2-msmarco-passage-dev-subset-20210608-5f341b.ee8d76e596aef02c5027a2ffd0ff66f8...\n",
            "Initializing tct_colbert-v2-msmarco-passage-dev-subset...\n",
            "Attempting to initialize pre-built index msmarco-passage-tct_colbert-v2-bf.\n",
            "Downloading index at https://rgw.cs.uwaterloo.ca/JIMMYLIN-bucket0/pyserini-indexes/dindex-msmarco-passage-tct_colbert-v2-bf-20210608-5f341b.tar.gz...\n",
            "dindex-msmarco-passage-tct_colbert-v2-bf-20210608-5f341b.tar.gz: 23.5GB [16:31, 25.4MB/s]                \n",
            "Extracting /root/.cache/pyserini/indexes/dindex-msmarco-passage-tct_colbert-v2-bf-20210608-5f341b.tar.gz into /root/.cache/pyserini/indexes/dindex-msmarco-passage-tct_colbert-v2-bf-20210608-5f341b.479591e265347ceff954ae05f6d3462b...\n",
            "Initializing msmarco-passage-tct_colbert-v2-bf...\n",
            "tcmalloc: large alloc 27162083328 bytes == 0x5611d2cc2000 @  0x7f679271d887 0x7f6609214ce1 0x7f660921d6b3 0x7f66090bbf90 0x5611c7a0d258 0x5611c7b4118e 0x5611c7b3a9ee 0x5611c7acdbda 0x5611c7b3fd00 0x5611c7acdafa 0x5611c7b3bc0d 0x5611c7b3a9ee 0x5611c7ace271 0x5611c7b0f159 0x5611c7b0c0a4 0x5611c7accc52 0x5611c7b3fc25 0x5611c7acdafa 0x5611c7b3fd00 0x5611c7b3a9ee 0x5611c7b3a6f3 0x5611c7b38b60 0x5611c7acc349 0x5611c7acc240 0x5611c7b3f973 0x5611c7b3a9ee 0x5611c7acdbda 0x5611c7b3b915 0x5611c7b3a9ee 0x5611c7a0ceb0 0x5611c7bde581\n",
            "Attempting to initialize pre-built index msmarco-passage.\n",
            "Downloading index at https://rgw.cs.uwaterloo.ca/JIMMYLIN-bucket0/pyserini-indexes/index-msmarco-passage-20201117-f87c94.tar.gz...\n",
            "index-msmarco-passage-20201117-f87c94.tar.gz: 2.07GB [01:33, 23.8MB/s]                \n",
            "Extracting /root/.cache/pyserini/indexes/index-msmarco-passage-20201117-f87c94.tar.gz into /root/.cache/pyserini/indexes/index-msmarco-passage-20201117-f87c94.1efad4f1ae6a77e235042eff4be1612d...\n",
            "Initializing msmarco-passage...\n",
            "Running msmarco-passage-dev-subset topics, saving to run.msmarco-passage.tct_colbert-v2.bf.tsv...\n",
            "100% 6980/6980 [55:33<00:00,  2.09it/s]\n"
          ]
        }
      ]
    },
    {
      "cell_type": "code",
      "source": [
        "!gsutil cp run.msmarco-passage.tct_colbert-v2.bf.tsv gs://luanps/information_retrieval/pyserini/tct_colbert_v2_bf/"
      ],
      "metadata": {
        "colab": {
          "base_uri": "https://localhost:8080/"
        },
        "id": "k9OI5KlzvYhK",
        "outputId": "09455208-3950-4c1c-b38c-5dde9bea8de7"
      },
      "execution_count": 5,
      "outputs": [
        {
          "output_type": "stream",
          "name": "stdout",
          "text": [
            "Copying file://run.msmarco-passage.tct_colbert-v2.bf.tsv [Content-Type=text/tab-separated-values]...\n",
            "|\n",
            "Operation completed over 1 objects/127.0 MiB.                                    \n"
          ]
        }
      ]
    },
    {
      "cell_type": "markdown",
      "source": [
        "#### Evaluation"
      ],
      "metadata": {
        "id": "rCnE_TM0NgZ2"
      }
    },
    {
      "cell_type": "code",
      "source": [
        "#MRR Eval\n",
        "!python -m pyserini.eval.msmarco_passage_eval msmarco-passage-dev-subset run.msmarco-passage.tct_colbert-v2.bf.tsv >> bf_mrr_eval.txt\n"
      ],
      "metadata": {
        "id": "sgJ9Kc2UM3Lm",
        "colab": {
          "base_uri": "https://localhost:8080/"
        },
        "outputId": "35126198-38e6-4ea1-f623-7120b456d80e"
      },
      "execution_count": 6,
      "outputs": [
        {
          "output_type": "stream",
          "name": "stdout",
          "text": [
            "msmarco_passage_eval.py: 8.00kB [00:00, 37.6kB/s]\n"
          ]
        }
      ]
    },
    {
      "cell_type": "code",
      "source": [
        "#TREC Eval\n",
        "!python -m pyserini.eval.convert_msmarco_run_to_trec_run --input run.msmarco-passage.tct_colbert-v2.bf.tsv \\\n",
        "                                                         --output run.msmarco-passage.tct_colbert-v2.bf.trec\n",
        "\n",
        "!python -m pyserini.eval.trec_eval -c -mrecall.1000 \\\n",
        "                                      -mmap msmarco-passage-dev-subset \\\n",
        "                                      run.msmarco-passage.tct_colbert-v2.bf.trec >> bf_trec_eval.txt"
      ],
      "metadata": {
        "id": "SXCWom8RNzZY"
      },
      "execution_count": null,
      "outputs": []
    },
    {
      "cell_type": "code",
      "source": [
        "!gsutil cp bf_trec_eval.txt bf_mrr_eval.txt gs://luanps/information_retrieval/pyserini/tct_colbert_v2_bf/"
      ],
      "metadata": {
        "colab": {
          "base_uri": "https://localhost:8080/"
        },
        "id": "QxRQZK9OPkZU",
        "outputId": "546bf863-b294-4c20-8adc-f0276af6a196"
      },
      "execution_count": 8,
      "outputs": [
        {
          "metadata": {
            "tags": null
          },
          "name": "stdout",
          "output_type": "stream",
          "text": [
            "Copying file://bf_trec_eval.txt [Content-Type=text/plain]...\n",
            "Copying file://bf_mrr_eval.txt [Content-Type=text/plain]...\n",
            "/ [2 files][  1.0 KiB/  1.0 KiB]                                                \n",
            "Operation completed over 2 objects/1.0 KiB.                                      \n"
          ]
        }
      ]
    },
    {
      "cell_type": "markdown",
      "source": [
        "### Dense retrieval with TCT-ColBERT V2-HN\n"
      ],
      "metadata": {
        "id": "9UtPsIzJdiyh"
      }
    },
    {
      "cell_type": "code",
      "source": [
        "!python -m pyserini.dsearch --topics msmarco-passage-dev-subset \\\n",
        "                             --index msmarco-passage-tct_colbert-v2-hn-bf \\\n",
        "                             --encoded-queries tct_colbert-v2-hn-msmarco-passage-dev-subset \\\n",
        "                             --batch-size 36 \\\n",
        "                             --threads 12 \\\n",
        "                             --output run.msmarco-passage.tct_colbert-v2-hn.bf.tsv \\\n",
        "                             --output-format msmarco"
      ],
      "metadata": {
        "colab": {
          "base_uri": "https://localhost:8080/"
        },
        "id": "cCV3BzNSdl7q",
        "outputId": "824a1a1f-b8b7-4fb1-8216-bbefa3e8aeb2"
      },
      "execution_count": null,
      "outputs": [
        {
          "output_type": "stream",
          "name": "stdout",
          "text": [
            "Using pre-defined topic order for msmarco-passage-dev-subset\n",
            "Attempting to initialize pre-encoded queries tct_colbert-v2-hn-msmarco-passage-dev-subset.\n",
            "Downloading index at https://github.com/castorini/pyserini-data/raw/main/encoded-queries/query-embedding-tct_colbert-v2-hn-msmarco-passage-dev-subset-20210608-5f341b.tar.gz...\n",
            "query-embedding-tct_colbert-v2-hn-msmarco-passage-dev-subset-20210608-5f341b.tar.gz: 19.1MB [00:02, 9.55MB/s]                \n",
            "Extracting /root/.cache/pyserini/queries/query-embedding-tct_colbert-v2-hn-msmarco-passage-dev-subset-20210608-5f341b.tar.gz into /root/.cache/pyserini/queries/query-embedding-tct_colbert-v2-hn-msmarco-passage-dev-subset-20210608-5f341b.f7e39cf2cd3ee53f7f8f2e0a1821431c...\n",
            "Initializing tct_colbert-v2-hn-msmarco-passage-dev-subset...\n",
            "Attempting to initialize pre-built index msmarco-passage-tct_colbert-v2-hn-bf.\n",
            "Downloading index at https://rgw.cs.uwaterloo.ca/JIMMYLIN-bucket0/pyserini-indexes/dindex-msmarco-passage-tct_colbert-v2-hn-bf-20210608-5f341b.tar.gz...\n",
            "dindex-msmarco-passage-tct_colbert-v2-hn-bf-20210608-5f341b.tar.gz: 23.5GB [15:36, 26.9MB/s]                \n",
            "Extracting /root/.cache/pyserini/indexes/dindex-msmarco-passage-tct_colbert-v2-hn-bf-20210608-5f341b.tar.gz into /root/.cache/pyserini/indexes/dindex-msmarco-passage-tct_colbert-v2-hn-bf-20210608-5f341b.61d38e4935b3ca36c99e0cda2b27fba2...\n",
            "Initializing msmarco-passage-tct_colbert-v2-hn-bf...\n",
            "tcmalloc: large alloc 27162083328 bytes == 0x562998848000 @  0x7f64a14b1887 0x7f6317fa8ce1 0x7f6317fb16b3 0x7f6317e4ff90 0x56298d585258 0x56298d6b918e 0x56298d6b29ee 0x56298d645bda 0x56298d6b7d00 0x56298d645afa 0x56298d6b3c0d 0x56298d6b29ee 0x56298d646271 0x56298d687159 0x56298d6840a4 0x56298d644c52 0x56298d6b7c25 0x56298d645afa 0x56298d6b7d00 0x56298d6b29ee 0x56298d6b26f3 0x56298d6b0b60 0x56298d644349 0x56298d644240 0x56298d6b7973 0x56298d6b29ee 0x56298d645bda 0x56298d6b3915 0x56298d6b29ee 0x56298d584eb0 0x56298d756581\n",
            "Attempting to initialize pre-built index msmarco-passage.\n",
            "Downloading index at https://rgw.cs.uwaterloo.ca/JIMMYLIN-bucket0/pyserini-indexes/index-msmarco-passage-20201117-f87c94.tar.gz...\n",
            "index-msmarco-passage-20201117-f87c94.tar.gz: 2.07GB [01:26, 25.6MB/s]                \n",
            "Extracting /root/.cache/pyserini/indexes/index-msmarco-passage-20201117-f87c94.tar.gz into /root/.cache/pyserini/indexes/index-msmarco-passage-20201117-f87c94.1efad4f1ae6a77e235042eff4be1612d...\n",
            "Initializing msmarco-passage...\n",
            "Running msmarco-passage-dev-subset topics, saving to run.msmarco-passage.tct_colbert-v2-hn.bf.tsv...\n",
            " 67% 4644/6980 [36:46<18:20,  2.12it/s]"
          ]
        }
      ]
    },
    {
      "cell_type": "code",
      "source": [
        "!gsutil cp run.msmarco-passage.tct_colbert-v2-hn.bf.tsv gs://luanps/information_retrieval/pyserini/tct_colbert_v2_hn/"
      ],
      "metadata": {
        "colab": {
          "base_uri": "https://localhost:8080/"
        },
        "id": "FL44CvBJeE7b",
        "outputId": "59c66999-81c3-4a9a-de82-bcd830e2c3b3"
      },
      "execution_count": 15,
      "outputs": [
        {
          "output_type": "stream",
          "name": "stdout",
          "text": [
            "Copying file://run.msmarco-passage.tct_colbert-v2-hn.bf.tsv [Content-Type=text/tab-separated-values]...\n",
            "\\ [1 files][127.0 MiB/127.0 MiB]                                                \n",
            "Operation completed over 1 objects/127.0 MiB.                                    \n"
          ]
        }
      ]
    },
    {
      "cell_type": "markdown",
      "source": [
        "#### Evaluation"
      ],
      "metadata": {
        "id": "qXSB-WEdfB1J"
      }
    },
    {
      "cell_type": "code",
      "source": [
        "#MRR Eval\n",
        "!python -m pyserini.eval.msmarco_passage_eval msmarco-passage-dev-subset run.msmarco-passage.tct_colbert-v2-hn.bf.tsv >> hn_mrr_eval.txt\n"
      ],
      "metadata": {
        "id": "1XBsTmV-e_0A"
      },
      "execution_count": 16,
      "outputs": []
    },
    {
      "cell_type": "code",
      "source": [
        "#TREC Eval\n",
        "!python -m pyserini.eval.convert_msmarco_run_to_trec_run --input run.msmarco-passage.tct_colbert-v2-hn.bf.tsv \\\n",
        "                                                         --output run.msmarco-passage.tct_colbert-v2-hn.bf.trec\n",
        "\n",
        "!python -m pyserini.eval.trec_eval -c -mrecall.1000 \\\n",
        "                                      -mmap msmarco-passage-dev-subset \\\n",
        "                                      run.msmarco-passage.tct_colbert-v2-hn.bf.trec >> hn_trec_eval.txt"
      ],
      "metadata": {
        "colab": {
          "base_uri": "https://localhost:8080/"
        },
        "id": "7fusW5M2fR96",
        "outputId": "dce42511-5de5-483c-82da-e190b6e85dc0"
      },
      "execution_count": 17,
      "outputs": [
        {
          "output_type": "stream",
          "name": "stdout",
          "text": [
            "Done!\n"
          ]
        }
      ]
    },
    {
      "cell_type": "code",
      "source": [
        "!gsutil cp hn_trec_eval.txt hn_mrr_eval.txt gs://luanps/information_retrieval/pyserini/tct_colbert_v2_hn/"
      ],
      "metadata": {
        "colab": {
          "base_uri": "https://localhost:8080/"
        },
        "id": "_wfge16IfqL9",
        "outputId": "7fcbfa78-51af-46c9-bb92-48b7f9106c59"
      },
      "execution_count": 19,
      "outputs": [
        {
          "output_type": "stream",
          "name": "stdout",
          "text": [
            "Copying file://hn_trec_eval.txt [Content-Type=text/plain]...\n",
            "Copying file://hn_mrr_eval.txt [Content-Type=text/plain]...\n",
            "/ [2 files][  1.2 KiB/  1.2 KiB]                                                \n",
            "Operation completed over 2 objects/1.2 KiB.                                      \n"
          ]
        }
      ]
    },
    {
      "cell_type": "markdown",
      "source": [
        "## HYBRID DENSE-SPARSE RETRIEVAL with TCT_ColBERT-V2-HN+"
      ],
      "metadata": {
        "id": "I4xOzzZkhIjS"
      }
    },
    {
      "cell_type": "markdown",
      "source": [
        "## Hybrid retrieval with dense-sparse representations (without document expansion):\n",
        "\n",
        "- dense retrieval with TCT-ColBERT, brute force index.\n",
        "- sparse retrieval with BM25 msmarco-passage (i.e., default bag-of-words) index.\n"
      ],
      "metadata": {
        "id": "yW4XWJHZf8yx"
      }
    },
    {
      "cell_type": "code",
      "source": [
        "!python -m pyserini.hsearch dense  --index msmarco-passage-tct_colbert-v2-hnp-bf \\\n",
        "                                    --encoded-queries tct_colbert-v2-hnp-msmarco-passage-dev-subset \\\n",
        "                             sparse --index msmarco-passage \\\n",
        "                             fusion --alpha 0.06 \\\n",
        "                             run    --topics msmarco-passage-dev-subset \\\n",
        "                                    --output run.msmarco-passage.tct_colbert-v2-hnp.bf.bm25.tsv \\\n",
        "                                    --batch-size 36 --threads 12 \\\n",
        "                                    --output-format msmarco"
      ],
      "metadata": {
        "outputId": "20a571f6-0bd0-4957-f300-b52566d324d7",
        "colab": {
          "base_uri": "https://localhost:8080/"
        },
        "id": "AXmcW19Kf8yx"
      },
      "execution_count": null,
      "outputs": [
        {
          "output_type": "stream",
          "name": "stdout",
          "text": [
            "Using pre-defined topic order for msmarco-passage-dev-subset\n",
            "Attempting to initialize pre-encoded queries tct_colbert-v2-hnp-msmarco-passage-dev-subset.\n",
            "Downloading index at https://github.com/castorini/pyserini-data/raw/main/encoded-queries/query-embedding-tct_colbert-v2-hnp-msmarco-passage-dev-subset-20210608-5f341b.tar.gz...\n",
            "query-embedding-tct_colbert-v2-hnp-msmarco-passage-dev-subset-20210608-5f341b.tar.gz: 19.2MB [00:01, 16.6MB/s]                \n",
            "Extracting /root/.cache/pyserini/queries/query-embedding-tct_colbert-v2-hnp-msmarco-passage-dev-subset-20210608-5f341b.tar.gz into /root/.cache/pyserini/queries/query-embedding-tct_colbert-v2-hnp-msmarco-passage-dev-subset-20210608-5f341b.bed8036475774d12915c8af2a44612f4...\n",
            "Initializing tct_colbert-v2-hnp-msmarco-passage-dev-subset...\n",
            "Attempting to initialize pre-built index msmarco-passage-tct_colbert-v2-hnp-bf.\n",
            "Downloading index at https://rgw.cs.uwaterloo.ca/JIMMYLIN-bucket0/pyserini-indexes/dindex-msmarco-passage-tct_colbert-v2-hnp-bf-20210608-5f341b.tar.gz...\n",
            "dindex-msmarco-passage-tct_colbert-v2-hnp-bf-20210608-5f341b.tar.gz:  23% 5.48G/23.5G [04:15<16:41, 19.3MB/s]"
          ]
        }
      ]
    },
    {
      "cell_type": "code",
      "source": [
        "!gsutil cp run.msmarco-passage.tct_colbert-v2-hnp.bf.bm25.tsv gs://luanps/information_retrieval/pyserini/tct_colbert_v2_hnp/"
      ],
      "metadata": {
        "id": "4q2qrI8Sf8yy"
      },
      "execution_count": null,
      "outputs": []
    },
    {
      "cell_type": "markdown",
      "source": [
        "### Evaluation"
      ],
      "metadata": {
        "id": "95XcrVvHf8yy"
      }
    },
    {
      "cell_type": "code",
      "source": [
        "#MRR Eval\n",
        "!python -m pyserini.eval.msmarco_passage_eval msmarco-passage-dev-subset run.msmarco-passage.tct_colbert-v2-hnp.bf.bm25.tsv >> hnp_bm25_mrr_eval.txt\n"
      ],
      "metadata": {
        "id": "d5wjMkwqf8yy"
      },
      "execution_count": null,
      "outputs": []
    },
    {
      "cell_type": "code",
      "source": [
        "#TREC Eval\n",
        "!python -m pyserini.eval.convert_msmarco_run_to_trec_run --input run.msmarco-passage.tct_colbert-v2-hnp.bf.bm25.tsv \\\n",
        "                                                         --output run.msmarco-passage.tct_colbert-v2-hnp.bf.bm25.trec\n",
        "\n",
        "!python -m pyserini.eval.trec_eval -c -mrecall.1000 \\\n",
        "                                      -mmap msmarco-passage-dev-subset \\\n",
        "                                      run.msmarco-passage.tct_colbert-v2-hnp.bf.bm25.trec >> hnp_bm25_trec_eval.txt"
      ],
      "metadata": {
        "id": "6WXyR8tSf8yy"
      },
      "execution_count": null,
      "outputs": []
    },
    {
      "cell_type": "code",
      "source": [
        "!gsutil cp hnp_trec_eval.txt hnp_mrr_eval.txt gs://luanps/information_retrieval/pyserini/tct_colbert_v2_hnp/"
      ],
      "metadata": {
        "id": "20cBprvmf8yy"
      },
      "execution_count": null,
      "outputs": []
    },
    {
      "cell_type": "markdown",
      "source": [
        "## Hybrid retrieval with dense-sparse representations (with document expansion):\n",
        "\n",
        "- dense retrieval with TCT-ColBERT, brute force index.\n",
        "- sparse retrieval with doc2query-T5 expanded index.\n"
      ],
      "metadata": {
        "id": "pva6yVNkie5E"
      }
    },
    {
      "cell_type": "code",
      "source": [
        "!python -m pyserini.hsearch dense  --index msmarco-passage-tct_colbert-v2-hnp-bf \\\n",
        "                                    --encoded-queries tct_colbert-v2-hnp-msmarco-passage-dev-subset \\\n",
        "                             sparse --index msmarco-passage-expanded \\\n",
        "                             fusion --alpha 0.1 \\\n",
        "                             run    --topics msmarco-passage-dev-subset \\\n",
        "                                    --output run.msmarco-passage.tct_colbert-v2-hnp.bf.doc2queryT5.tsv \\\n",
        "                                    --batch-size 36 --threads 12 \\\n",
        "                                    --output-format msmarco"
      ],
      "metadata": {
        "id": "8arCs1joie5F"
      },
      "execution_count": null,
      "outputs": []
    },
    {
      "cell_type": "code",
      "source": [
        "!gsutil cp run.msmarco-passage.tct_colbert-v2-hnp.bf.doc2queryT5.tsv gs://luanps/information_retrieval/pyserini/tct_colbert_v2_hnp_bf_doc2queryT5/"
      ],
      "metadata": {
        "id": "jCK4OrjEie5G"
      },
      "execution_count": null,
      "outputs": []
    },
    {
      "cell_type": "markdown",
      "source": [
        "### Evaluation"
      ],
      "metadata": {
        "id": "dZRX2JNyie5G"
      }
    },
    {
      "cell_type": "code",
      "source": [
        "#MRR Eval\n",
        "!python -m pyserini.eval.msmarco_passage_eval msmarco-passage-dev-subset run.msmarco-passage.tct_colbert-v2-hnp.bf.doc2queryT5.tsv >> hnp_bf_doc2queryT5_mrr_eval.txt\n"
      ],
      "metadata": {
        "id": "hdkS1UsRie5G"
      },
      "execution_count": null,
      "outputs": []
    },
    {
      "cell_type": "code",
      "source": [
        "#TREC Eval\n",
        "!python -m pyserini.eval.convert_msmarco_run_to_trec_run --input run.msmarco-passage.tct_colbert-v2-hnp.bf.doc2queryT5.tsv \\\n",
        "                                                         --output run.msmarco-passage.tct_colbert-v2-hnp.bf.doc2queryT5.trec\n",
        "\n",
        "!python -m pyserini.eval.trec_eval -c -mrecall.1000 \\\n",
        "                                      -mmap msmarco-passage-dev-subset \\\n",
        "                                      run.msmarco-passage.tct_colbert-v2-hnp.bf.doc2queryT5.trec >> hnp_bf_doc2queryT5_trec_eval.txt"
      ],
      "metadata": {
        "id": "VH8eXJqLie5G"
      },
      "execution_count": null,
      "outputs": []
    },
    {
      "cell_type": "code",
      "source": [
        "!gsutil cp hnp_bf_doc2queryT5_trec_eval.txt hnp_bf_doc2queryT5_mrr_eval.txt gs://luanps/information_retrieval/pyserini/tct_colbert_v2_hnp_bf_doc2queryT5/"
      ],
      "metadata": {
        "id": "A-AgNK8uie5H"
      },
      "execution_count": null,
      "outputs": []
    }
  ]
}