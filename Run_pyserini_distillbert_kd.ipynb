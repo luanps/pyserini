{
  "nbformat": 4,
  "nbformat_minor": 0,
  "metadata": {
    "colab": {
      "name": "Run pyserini - distillbert_kd.ipynb",
      "provenance": [],
      "machine_shape": "hm",
      "background_execution": "on",
      "authorship_tag": "ABX9TyMxg/SaSVlG5XdusHU+FrZq",
      "include_colab_link": true
    },
    "kernelspec": {
      "name": "python3",
      "display_name": "Python 3"
    },
    "language_info": {
      "name": "python"
    },
    "accelerator": "GPU"
  },
  "cells": [
    {
      "cell_type": "markdown",
      "metadata": {
        "id": "view-in-github",
        "colab_type": "text"
      },
      "source": [
        "<a href=\"https://colab.research.google.com/github/luanps/pyserini/blob/master/Run_pyserini_distillbert_kd.ipynb\" target=\"_parent\"><img src=\"https://colab.research.google.com/assets/colab-badge.svg\" alt=\"Open In Colab\"/></a>"
      ]
    },
    {
      "cell_type": "markdown",
      "source": [
        "# Distilbert-KD Passage Ranking on MSMARCO\n",
        "\n",
        "Sebastian Hofstätter, Sophia Althammer, Michael Schröder, Mete Sertkan, and Allan Hanbury. Improving Efficient Neural Ranking Models with Cross-Architecture Knowledge Distillation. arXiv:2010.02666, October 2020.\n",
        "\n"
      ],
      "metadata": {
        "id": "EkJ-trI_kIza"
      }
    },
    {
      "cell_type": "markdown",
      "source": [
        "## Install dependencies"
      ],
      "metadata": {
        "id": "_NfPlP4fFwuH"
      }
    },
    {
      "cell_type": "code",
      "source": [
        "from google.colab import auth\n",
        "auth.authenticate_user()"
      ],
      "metadata": {
        "id": "U4QbbuVnLisS"
      },
      "execution_count": 1,
      "outputs": []
    },
    {
      "cell_type": "code",
      "source": [
        "%%capture\n",
        "!pip install pyserini\n",
        "\n",
        "import os\n",
        "os.environ[\"JAVA_HOME\"] = \"/usr/lib/jvm/java-11-openjdk-amd64\""
      ],
      "metadata": {
        "id": "-ycV2g24xYhc"
      },
      "execution_count": 2,
      "outputs": []
    },
    {
      "cell_type": "markdown",
      "source": [
        ""
      ],
      "metadata": {
        "id": "JTzQmpe6VXmR"
      }
    },
    {
      "cell_type": "code",
      "source": [
        "!pip install faiss-cpu"
      ],
      "metadata": {
        "colab": {
          "base_uri": "https://localhost:8080/"
        },
        "id": "IIH-U0TG26By",
        "outputId": "e9b0d84a-b390-42b7-fe65-4afd734124a8"
      },
      "execution_count": 3,
      "outputs": [
        {
          "output_type": "stream",
          "name": "stdout",
          "text": [
            "Collecting faiss-cpu\n",
            "  Downloading faiss_cpu-1.7.2-cp37-cp37m-manylinux_2_17_x86_64.manylinux2014_x86_64.whl (8.6 MB)\n",
            "\u001b[K     |████████████████████████████████| 8.6 MB 9.3 MB/s \n",
            "\u001b[?25hInstalling collected packages: faiss-cpu\n",
            "Successfully installed faiss-cpu-1.7.2\n"
          ]
        }
      ]
    },
    {
      "cell_type": "markdown",
      "source": [
        "## Dense retrieval with Distilbert-KD - MSMARCO Passage Ranking"
      ],
      "metadata": {
        "id": "o0SedQeVFsUY"
      }
    },
    {
      "cell_type": "code",
      "source": [
        "!python -m pyserini.dsearch --topics msmarco-passage-dev-subset \\\n",
        "                            --index msmarco-passage-distilbert-dot-margin_mse-T2-bf \\\n",
        "                            --encoded-queries distilbert_kd-msmarco-passage-dev-subset \\\n",
        "                            --batch-size 36 \\\n",
        "                            --threads 12 \\\n",
        "                            --output run.msmarco-passage.distilbert-dot-margin_mse-T2.bf.tsv \\\n",
        "                            --output-format msmarco"
      ],
      "metadata": {
        "id": "K_mAjElIvPRd",
        "colab": {
          "base_uri": "https://localhost:8080/"
        },
        "outputId": "4fd8d42a-cd65-4ce7-dac3-1973635c73bb"
      },
      "execution_count": null,
      "outputs": [
        {
          "output_type": "stream",
          "name": "stdout",
          "text": [
            "Using pre-defined topic order for msmarco-passage-dev-subset\n",
            "Attempting to initialize pre-encoded queries distilbert_kd-msmarco-passage-dev-subset.\n",
            "Downloading index at https://github.com/castorini/pyserini-data/raw/main/encoded-queries/query-embedding-distilbert_kd-msmarco-passage-dev-subset-20210419-9323ec.tar.gz...\n",
            "query-embedding-distilbert_kd-msmarco-passage-dev-subset-20210419-9323ec.tar.gz: 19.1MB [00:01, 16.0MB/s]                \n",
            "Extracting /root/.cache/pyserini/queries/query-embedding-distilbert_kd-msmarco-passage-dev-subset-20210419-9323ec.tar.gz into /root/.cache/pyserini/queries/query-embedding-distilbert_kd-msmarco-passage-dev-subset-20210419-9323ec.4706ec91183eefa9771e9311fe4799e0...\n",
            "Initializing distilbert_kd-msmarco-passage-dev-subset...\n",
            "Attempting to initialize pre-built index msmarco-passage-distilbert-dot-margin_mse-T2-bf.\n",
            "Downloading index at https://rgw.cs.uwaterloo.ca/JIMMYLIN-bucket0/pyserini-indexes/dindex-msmarco-passage-distilbert-dot-margin_mse-T2-20210316-d44c3a.tar.gz...\n",
            "dindex-msmarco-passage-distilbert-dot-margin_mse-T2-20210316-d44c3a.tar.gz:  52% 12.2G/23.4G [08:20<07:50, 25.6MB/s]"
          ]
        }
      ]
    },
    {
      "cell_type": "code",
      "source": [
        "!gsutil cp run.msmarco-passage.distilbert-dot-margin_mse-T2.bf.tsv gs://luanps/information_retrieval/pyserini/distilbert-kd/"
      ],
      "metadata": {
        "id": "k9OI5KlzvYhK"
      },
      "execution_count": null,
      "outputs": []
    },
    {
      "cell_type": "markdown",
      "source": [
        "### Evaluation"
      ],
      "metadata": {
        "id": "rCnE_TM0NgZ2"
      }
    },
    {
      "cell_type": "code",
      "source": [
        "#MRR Eval\n",
        "!python -m pyserini.eval.msmarco_passage_eval msmarco-passage-dev-subset run.msmarco-passage.distilbert-dot-margin_mse-T2.bf.tsv >> msmarco_passage_distilbert-dot-margin_mse-T2.bf_mrr_eval.txt"
      ],
      "metadata": {
        "id": "sgJ9Kc2UM3Lm"
      },
      "execution_count": null,
      "outputs": []
    },
    {
      "cell_type": "code",
      "source": [
        "#TREC Eval\n",
        "!python -m pyserini.eval.convert_msmarco_run_to_trec_run --input run.msmarco-passage.distilbert-dot-margin_mse-T2.bf.tsv \\\n",
        "                                                         --output run.msmarco-passage.distilbert-dot-margin_mse-T2.bf.trec\n",
        "\n",
        "!python -m pyserini.eval.trec_eval -c -mrecall.1000 \\\n",
        "                                      -mmap msmarco-passage-dev-subset \\\n",
        "                                      run.msmarco-passage.distilbert-dot-margin_mse-T2.bf.trec >> msmarco_passage_distilbert-dot-margin_mse-T2_eval.txt"
      ],
      "metadata": {
        "id": "SXCWom8RNzZY"
      },
      "execution_count": null,
      "outputs": []
    },
    {
      "cell_type": "code",
      "source": [
        "!gsutil cp  msmarco_passage_distilbert-dot-margin_mse-T2.bf_mrr_eval.txt msmarco_passage_distilbert-dot-margin_mse-T2_eval.txt gs://luanps/information_retrieval/pyserini/distilbert-kd/"
      ],
      "metadata": {
        "id": "QxRQZK9OPkZU"
      },
      "execution_count": null,
      "outputs": []
    }
  ]
}