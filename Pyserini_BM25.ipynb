{
  "nbformat": 4,
  "nbformat_minor": 0,
  "metadata": {
    "colab": {
      "name": "Pyserini - BM25.ipynb",
      "provenance": [],
      "authorship_tag": "ABX9TyMu7f1ds7NlydXWVGmhg4XV",
      "include_colab_link": true
    },
    "kernelspec": {
      "name": "python3",
      "display_name": "Python 3"
    },
    "language_info": {
      "name": "python"
    }
  },
  "cells": [
    {
      "cell_type": "markdown",
      "metadata": {
        "id": "view-in-github",
        "colab_type": "text"
      },
      "source": [
        "<a href=\"https://colab.research.google.com/github/luanps/pyserini/blob/master/Pyserini_BM25.ipynb\" target=\"_parent\"><img src=\"https://colab.research.google.com/assets/colab-badge.svg\" alt=\"Open In Colab\"/></a>"
      ]
    },
    {
      "cell_type": "markdown",
      "source": [
        "## Pyserini: BM25 Baseline for MS MARCO Passage Retrieval"
      ],
      "metadata": {
        "id": "IY2Dlkl1Ni9Q"
      }
    },
    {
      "cell_type": "markdown",
      "source": [
        "### Install dependencies"
      ],
      "metadata": {
        "id": "302l8xvdN4pi"
      }
    },
    {
      "cell_type": "code",
      "source": [
        "from google.colab import auth\n",
        "auth.authenticate_user()"
      ],
      "metadata": {
        "id": "hcGYMdP1RSKs"
      },
      "execution_count": 15,
      "outputs": []
    },
    {
      "cell_type": "code",
      "execution_count": 1,
      "metadata": {
        "colab": {
          "base_uri": "https://localhost:8080/"
        },
        "id": "Ba3JaJW1NgAe",
        "outputId": "e633a745-dc5c-42e1-b085-e923b7166e91"
      },
      "outputs": [
        {
          "output_type": "stream",
          "name": "stdout",
          "text": [
            "Cloning into 'pyserini'...\n",
            "remote: Enumerating objects: 4366, done.\u001b[K\n",
            "remote: Total 4366 (delta 0), reused 0 (delta 0), pack-reused 4366\u001b[K\n",
            "Receiving objects: 100% (4366/4366), 2.13 MiB | 17.86 MiB/s, done.\n",
            "Resolving deltas: 100% (3001/3001), done.\n"
          ]
        }
      ],
      "source": [
        "!git clone https://github.com/luanps/pyserini.git"
      ]
    },
    {
      "cell_type": "code",
      "source": [
        "!pip install pyserini"
      ],
      "metadata": {
        "colab": {
          "base_uri": "https://localhost:8080/"
        },
        "id": "PvRtVYsKNkxF",
        "outputId": "44163157-6eb4-4c05-91f5-128d4cef1d3b"
      },
      "execution_count": 2,
      "outputs": [
        {
          "output_type": "stream",
          "name": "stdout",
          "text": [
            "Collecting pyserini\n",
            "  Downloading pyserini-0.16.0-py3-none-any.whl (84.6 MB)\n",
            "\u001b[K     |████████████████████████████████| 84.6 MB 98 kB/s \n",
            "\u001b[?25hRequirement already satisfied: scipy>=1.4.1 in /usr/local/lib/python3.7/dist-packages (from pyserini) (1.4.1)\n",
            "Collecting nmslib>=2.1.1\n",
            "  Downloading nmslib-2.1.1-cp37-cp37m-manylinux2010_x86_64.whl (13.5 MB)\n",
            "\u001b[K     |████████████████████████████████| 13.5 MB 44.3 MB/s \n",
            "\u001b[?25hRequirement already satisfied: numpy>=1.18.1 in /usr/local/lib/python3.7/dist-packages (from pyserini) (1.21.5)\n",
            "Requirement already satisfied: tqdm in /usr/local/lib/python3.7/dist-packages (from pyserini) (4.62.3)\n",
            "Requirement already satisfied: scikit-learn>=0.22.1 in /usr/local/lib/python3.7/dist-packages (from pyserini) (1.0.2)\n",
            "Collecting transformers>=4.6.0\n",
            "  Downloading transformers-4.16.2-py3-none-any.whl (3.5 MB)\n",
            "\u001b[K     |████████████████████████████████| 3.5 MB 45.5 MB/s \n",
            "\u001b[?25hCollecting pyjnius>=1.4.0\n",
            "  Downloading pyjnius-1.4.1-cp37-cp37m-manylinux_2_5_x86_64.manylinux1_x86_64.manylinux_2_12_x86_64.manylinux2010_x86_64.whl (1.1 MB)\n",
            "\u001b[K     |████████████████████████████████| 1.1 MB 33.2 MB/s \n",
            "\u001b[?25hRequirement already satisfied: pandas>=1.1.5 in /usr/local/lib/python3.7/dist-packages (from pyserini) (1.3.5)\n",
            "Collecting onnxruntime>=1.8.1\n",
            "  Downloading onnxruntime-1.10.0-cp37-cp37m-manylinux_2_17_x86_64.manylinux2014_x86_64.whl (4.9 MB)\n",
            "\u001b[K     |████████████████████████████████| 4.9 MB 38.4 MB/s \n",
            "\u001b[?25hCollecting sentencepiece>=0.1.95\n",
            "  Downloading sentencepiece-0.1.96-cp37-cp37m-manylinux_2_17_x86_64.manylinux2014_x86_64.whl (1.2 MB)\n",
            "\u001b[K     |████████████████████████████████| 1.2 MB 58.4 MB/s \n",
            "\u001b[?25hCollecting lightgbm>=3.3.2\n",
            "  Downloading lightgbm-3.3.2-py3-none-manylinux1_x86_64.whl (2.0 MB)\n",
            "\u001b[K     |████████████████████████████████| 2.0 MB 55.0 MB/s \n",
            "\u001b[?25hCollecting spacy>=3.2.1\n",
            "  Downloading spacy-3.2.3-cp37-cp37m-manylinux_2_17_x86_64.manylinux2014_x86_64.whl (6.0 MB)\n",
            "\u001b[K     |████████████████████████████████| 6.0 MB 40.1 MB/s \n",
            "\u001b[?25hRequirement already satisfied: Cython>=0.29.21 in /usr/local/lib/python3.7/dist-packages (from pyserini) (0.29.28)\n",
            "Requirement already satisfied: wheel in /usr/local/lib/python3.7/dist-packages (from lightgbm>=3.3.2->pyserini) (0.37.1)\n",
            "Requirement already satisfied: psutil in /usr/local/lib/python3.7/dist-packages (from nmslib>=2.1.1->pyserini) (5.4.8)\n",
            "Collecting pybind11<2.6.2\n",
            "  Downloading pybind11-2.6.1-py2.py3-none-any.whl (188 kB)\n",
            "\u001b[K     |████████████████████████████████| 188 kB 48.1 MB/s \n",
            "\u001b[?25hRequirement already satisfied: protobuf in /usr/local/lib/python3.7/dist-packages (from onnxruntime>=1.8.1->pyserini) (3.17.3)\n",
            "Requirement already satisfied: flatbuffers in /usr/local/lib/python3.7/dist-packages (from onnxruntime>=1.8.1->pyserini) (2.0)\n",
            "Requirement already satisfied: python-dateutil>=2.7.3 in /usr/local/lib/python3.7/dist-packages (from pandas>=1.1.5->pyserini) (2.8.2)\n",
            "Requirement already satisfied: pytz>=2017.3 in /usr/local/lib/python3.7/dist-packages (from pandas>=1.1.5->pyserini) (2018.9)\n",
            "Requirement already satisfied: six>=1.7.0 in /usr/local/lib/python3.7/dist-packages (from pyjnius>=1.4.0->pyserini) (1.15.0)\n",
            "Requirement already satisfied: threadpoolctl>=2.0.0 in /usr/local/lib/python3.7/dist-packages (from scikit-learn>=0.22.1->pyserini) (3.1.0)\n",
            "Requirement already satisfied: joblib>=0.11 in /usr/local/lib/python3.7/dist-packages (from scikit-learn>=0.22.1->pyserini) (1.1.0)\n",
            "Requirement already satisfied: wasabi<1.1.0,>=0.8.1 in /usr/local/lib/python3.7/dist-packages (from spacy>=3.2.1->pyserini) (0.9.0)\n",
            "Collecting srsly<3.0.0,>=2.4.1\n",
            "  Downloading srsly-2.4.2-cp37-cp37m-manylinux_2_17_x86_64.manylinux2014_x86_64.whl (451 kB)\n",
            "\u001b[K     |████████████████████████████████| 451 kB 34.3 MB/s \n",
            "\u001b[?25hCollecting langcodes<4.0.0,>=3.2.0\n",
            "  Downloading langcodes-3.3.0-py3-none-any.whl (181 kB)\n",
            "\u001b[K     |████████████████████████████████| 181 kB 59.0 MB/s \n",
            "\u001b[?25hCollecting typer<0.5.0,>=0.3.0\n",
            "  Downloading typer-0.4.0-py3-none-any.whl (27 kB)\n",
            "Requirement already satisfied: typing-extensions<4.0.0.0,>=3.7.4 in /usr/local/lib/python3.7/dist-packages (from spacy>=3.2.1->pyserini) (3.10.0.2)\n",
            "Collecting spacy-legacy<3.1.0,>=3.0.8\n",
            "  Downloading spacy_legacy-3.0.9-py2.py3-none-any.whl (20 kB)\n",
            "Requirement already satisfied: requests<3.0.0,>=2.13.0 in /usr/local/lib/python3.7/dist-packages (from spacy>=3.2.1->pyserini) (2.23.0)\n",
            "Collecting thinc<8.1.0,>=8.0.12\n",
            "  Downloading thinc-8.0.13-cp37-cp37m-manylinux_2_17_x86_64.manylinux2014_x86_64.whl (628 kB)\n",
            "\u001b[K     |████████████████████████████████| 628 kB 59.7 MB/s \n",
            "\u001b[?25hCollecting spacy-loggers<2.0.0,>=1.0.0\n",
            "  Downloading spacy_loggers-1.0.1-py3-none-any.whl (7.0 kB)\n",
            "Collecting catalogue<2.1.0,>=2.0.6\n",
            "  Downloading catalogue-2.0.6-py3-none-any.whl (17 kB)\n",
            "Requirement already satisfied: preshed<3.1.0,>=3.0.2 in /usr/local/lib/python3.7/dist-packages (from spacy>=3.2.1->pyserini) (3.0.6)\n",
            "Collecting pydantic!=1.8,!=1.8.1,<1.9.0,>=1.7.4\n",
            "  Downloading pydantic-1.8.2-cp37-cp37m-manylinux2014_x86_64.whl (10.1 MB)\n",
            "\u001b[K     |████████████████████████████████| 10.1 MB 44.8 MB/s \n",
            "\u001b[?25hRequirement already satisfied: blis<0.8.0,>=0.4.0 in /usr/local/lib/python3.7/dist-packages (from spacy>=3.2.1->pyserini) (0.4.1)\n",
            "Requirement already satisfied: packaging>=20.0 in /usr/local/lib/python3.7/dist-packages (from spacy>=3.2.1->pyserini) (21.3)\n",
            "Requirement already satisfied: cymem<2.1.0,>=2.0.2 in /usr/local/lib/python3.7/dist-packages (from spacy>=3.2.1->pyserini) (2.0.6)\n",
            "Requirement already satisfied: murmurhash<1.1.0,>=0.28.0 in /usr/local/lib/python3.7/dist-packages (from spacy>=3.2.1->pyserini) (1.0.6)\n",
            "Collecting pathy>=0.3.5\n",
            "  Downloading pathy-0.6.1-py3-none-any.whl (42 kB)\n",
            "\u001b[K     |████████████████████████████████| 42 kB 1.5 MB/s \n",
            "\u001b[?25hRequirement already satisfied: setuptools in /usr/local/lib/python3.7/dist-packages (from spacy>=3.2.1->pyserini) (57.4.0)\n",
            "Requirement already satisfied: jinja2 in /usr/local/lib/python3.7/dist-packages (from spacy>=3.2.1->pyserini) (2.11.3)\n",
            "Requirement already satisfied: zipp>=0.5 in /usr/local/lib/python3.7/dist-packages (from catalogue<2.1.0,>=2.0.6->spacy>=3.2.1->pyserini) (3.7.0)\n",
            "Requirement already satisfied: pyparsing!=3.0.5,>=2.0.2 in /usr/local/lib/python3.7/dist-packages (from packaging>=20.0->spacy>=3.2.1->pyserini) (3.0.7)\n",
            "Requirement already satisfied: smart-open<6.0.0,>=5.0.0 in /usr/local/lib/python3.7/dist-packages (from pathy>=0.3.5->spacy>=3.2.1->pyserini) (5.2.1)\n",
            "Requirement already satisfied: chardet<4,>=3.0.2 in /usr/local/lib/python3.7/dist-packages (from requests<3.0.0,>=2.13.0->spacy>=3.2.1->pyserini) (3.0.4)\n",
            "Requirement already satisfied: idna<3,>=2.5 in /usr/local/lib/python3.7/dist-packages (from requests<3.0.0,>=2.13.0->spacy>=3.2.1->pyserini) (2.10)\n",
            "Requirement already satisfied: certifi>=2017.4.17 in /usr/local/lib/python3.7/dist-packages (from requests<3.0.0,>=2.13.0->spacy>=3.2.1->pyserini) (2021.10.8)\n",
            "Requirement already satisfied: urllib3!=1.25.0,!=1.25.1,<1.26,>=1.21.1 in /usr/local/lib/python3.7/dist-packages (from requests<3.0.0,>=2.13.0->spacy>=3.2.1->pyserini) (1.24.3)\n",
            "Collecting sacremoses\n",
            "  Downloading sacremoses-0.0.47-py2.py3-none-any.whl (895 kB)\n",
            "\u001b[K     |████████████████████████████████| 895 kB 41.2 MB/s \n",
            "\u001b[?25hRequirement already satisfied: regex!=2019.12.17 in /usr/local/lib/python3.7/dist-packages (from transformers>=4.6.0->pyserini) (2019.12.20)\n",
            "Collecting tokenizers!=0.11.3,>=0.10.1\n",
            "  Downloading tokenizers-0.11.6-cp37-cp37m-manylinux_2_12_x86_64.manylinux2010_x86_64.whl (6.5 MB)\n",
            "\u001b[K     |████████████████████████████████| 6.5 MB 40.7 MB/s \n",
            "\u001b[?25hRequirement already satisfied: importlib-metadata in /usr/local/lib/python3.7/dist-packages (from transformers>=4.6.0->pyserini) (4.11.1)\n",
            "Collecting huggingface-hub<1.0,>=0.1.0\n",
            "  Downloading huggingface_hub-0.4.0-py3-none-any.whl (67 kB)\n",
            "\u001b[K     |████████████████████████████████| 67 kB 5.4 MB/s \n",
            "\u001b[?25hCollecting pyyaml>=5.1\n",
            "  Downloading PyYAML-6.0-cp37-cp37m-manylinux_2_5_x86_64.manylinux1_x86_64.manylinux_2_12_x86_64.manylinux2010_x86_64.whl (596 kB)\n",
            "\u001b[K     |████████████████████████████████| 596 kB 57.1 MB/s \n",
            "\u001b[?25hRequirement already satisfied: filelock in /usr/local/lib/python3.7/dist-packages (from transformers>=4.6.0->pyserini) (3.6.0)\n",
            "Requirement already satisfied: click<9.0.0,>=7.1.1 in /usr/local/lib/python3.7/dist-packages (from typer<0.5.0,>=0.3.0->spacy>=3.2.1->pyserini) (7.1.2)\n",
            "Requirement already satisfied: MarkupSafe>=0.23 in /usr/local/lib/python3.7/dist-packages (from jinja2->spacy>=3.2.1->pyserini) (2.0.1)\n",
            "Installing collected packages: catalogue, typer, srsly, pyyaml, pydantic, tokenizers, thinc, spacy-loggers, spacy-legacy, sacremoses, pybind11, pathy, langcodes, huggingface-hub, transformers, spacy, sentencepiece, pyjnius, onnxruntime, nmslib, lightgbm, pyserini\n",
            "  Attempting uninstall: catalogue\n",
            "    Found existing installation: catalogue 1.0.0\n",
            "    Uninstalling catalogue-1.0.0:\n",
            "      Successfully uninstalled catalogue-1.0.0\n",
            "  Attempting uninstall: srsly\n",
            "    Found existing installation: srsly 1.0.5\n",
            "    Uninstalling srsly-1.0.5:\n",
            "      Successfully uninstalled srsly-1.0.5\n",
            "  Attempting uninstall: pyyaml\n",
            "    Found existing installation: PyYAML 3.13\n",
            "    Uninstalling PyYAML-3.13:\n",
            "      Successfully uninstalled PyYAML-3.13\n",
            "  Attempting uninstall: thinc\n",
            "    Found existing installation: thinc 7.4.0\n",
            "    Uninstalling thinc-7.4.0:\n",
            "      Successfully uninstalled thinc-7.4.0\n",
            "  Attempting uninstall: spacy\n",
            "    Found existing installation: spacy 2.2.4\n",
            "    Uninstalling spacy-2.2.4:\n",
            "      Successfully uninstalled spacy-2.2.4\n",
            "  Attempting uninstall: lightgbm\n",
            "    Found existing installation: lightgbm 2.2.3\n",
            "    Uninstalling lightgbm-2.2.3:\n",
            "      Successfully uninstalled lightgbm-2.2.3\n",
            "Successfully installed catalogue-2.0.6 huggingface-hub-0.4.0 langcodes-3.3.0 lightgbm-3.3.2 nmslib-2.1.1 onnxruntime-1.10.0 pathy-0.6.1 pybind11-2.6.1 pydantic-1.8.2 pyjnius-1.4.1 pyserini-0.16.0 pyyaml-6.0 sacremoses-0.0.47 sentencepiece-0.1.96 spacy-3.2.3 spacy-legacy-3.0.9 spacy-loggers-1.0.1 srsly-2.4.2 thinc-8.0.13 tokenizers-0.11.6 transformers-4.16.2 typer-0.4.0\n"
          ]
        }
      ]
    },
    {
      "cell_type": "code",
      "source": [
        "import os\n",
        "os.environ[\"JAVA_HOME\"] = \"/usr/lib/jvm/java-11-openjdk-amd64\"\n",
        "\n",
        "!pip install faiss-cpu"
      ],
      "metadata": {
        "colab": {
          "base_uri": "https://localhost:8080/"
        },
        "id": "nQF3XyZIPtq2",
        "outputId": "189d762d-dc70-4425-d176-3d4f3552ca91"
      },
      "execution_count": 3,
      "outputs": [
        {
          "output_type": "stream",
          "name": "stdout",
          "text": [
            "Collecting faiss-cpu\n",
            "  Downloading faiss_cpu-1.7.2-cp37-cp37m-manylinux_2_17_x86_64.manylinux2014_x86_64.whl (8.6 MB)\n",
            "\u001b[K     |████████████████████████████████| 8.6 MB 7.1 MB/s \n",
            "\u001b[?25hInstalling collected packages: faiss-cpu\n",
            "Successfully installed faiss-cpu-1.7.2\n"
          ]
        }
      ]
    },
    {
      "cell_type": "markdown",
      "source": [
        "### Download and Preproc MSMARCO dataset"
      ],
      "metadata": {
        "id": "a0WidXSbN69p"
      }
    },
    {
      "cell_type": "code",
      "source": [
        "#Download MSMARCO dataset\n",
        "\n",
        "!mkdir collections/msmarco-passage\n",
        "!wget https://msmarco.blob.core.windows.net/msmarcoranking/collectionandqueries.tar.gz -P collections/msmarco-passage\n",
        "# Alternative mirror:\n",
        "# wget https://www.dropbox.com/s/9f54jg2f71ray3b/collectionandqueries.tar.gz -P collections/msmarco-passage\n",
        "!tar xvfz collections/msmarco-passage/collectionandqueries.tar.gz -C collections/msmarco-passage"
      ],
      "metadata": {
        "colab": {
          "base_uri": "https://localhost:8080/"
        },
        "id": "5uxHztR2N00X",
        "outputId": "a09b440c-516b-4b49-ef6a-877960850f10"
      },
      "execution_count": 4,
      "outputs": [
        {
          "output_type": "stream",
          "name": "stdout",
          "text": [
            "mkdir: cannot create directory ‘collections/msmarco-passage’: No such file or directory\n",
            "--2022-03-02 16:29:40--  https://msmarco.blob.core.windows.net/msmarcoranking/collectionandqueries.tar.gz\n",
            "Resolving msmarco.blob.core.windows.net (msmarco.blob.core.windows.net)... 20.150.34.4\n",
            "Connecting to msmarco.blob.core.windows.net (msmarco.blob.core.windows.net)|20.150.34.4|:443... connected.\n",
            "HTTP request sent, awaiting response... 200 OK\n",
            "Length: 1057717952 (1009M) [application/gzip]\n",
            "Saving to: ‘collections/msmarco-passage/collectionandqueries.tar.gz’\n",
            "\n",
            "collectionandquerie 100%[===================>]   1009M  18.4MB/s    in 56s     \n",
            "\n",
            "2022-03-02 16:30:37 (17.9 MB/s) - ‘collections/msmarco-passage/collectionandqueries.tar.gz’ saved [1057717952/1057717952]\n",
            "\n",
            "collection.tsv\n",
            "qrels.dev.small.tsv\n",
            "qrels.train.tsv\n",
            "queries.dev.small.tsv\n",
            "queries.dev.tsv\n",
            "queries.eval.small.tsv\n",
            "queries.eval.tsv\n",
            "queries.train.tsv\n"
          ]
        }
      ]
    },
    {
      "cell_type": "code",
      "source": [
        "# Convert MSMARCO to jsonl\n",
        "!python pyserini/scripts/ltr_msmarco/convert_collection_to_jsonl.py  --collection-path collections/msmarco-passage/collection.tsv  --output-folder collections/msmarco-passage/collection_jsonl"
      ],
      "metadata": {
        "id": "2ysw7nizOADc"
      },
      "execution_count": null,
      "outputs": []
    },
    {
      "cell_type": "code",
      "source": [
        "# Index Collection\n",
        "!python -m pyserini.index.lucene \\\n",
        "  --collection JsonCollection \\\n",
        "  --input collections/msmarco-passage/collection_jsonl \\\n",
        "  --index indexes/lucene-index-msmarco-passage \\\n",
        "  --generator DefaultLuceneDocumentGenerator \\\n",
        "  --threads 9 \\\n",
        "  --storePositions --storeDocvectors --storeRaw"
      ],
      "metadata": {
        "colab": {
          "base_uri": "https://localhost:8080/"
        },
        "id": "Og4UidLDOK1U",
        "outputId": "26895391-06c0-4d14-afe4-50e6203fd0c0"
      },
      "execution_count": 7,
      "outputs": [
        {
          "output_type": "stream",
          "name": "stdout",
          "text": [
            "WARNING: sun.reflect.Reflection.getCallerClass is not supported. This will impact performance.\n",
            "2022-03-02 16:41:31,511 INFO  [main] index.IndexCollection (IndexCollection.java:643) - Setting log level to INFO\n",
            "2022-03-02 16:41:31,516 INFO  [main] index.IndexCollection (IndexCollection.java:646) - Starting indexer...\n",
            "2022-03-02 16:41:31,516 INFO  [main] index.IndexCollection (IndexCollection.java:647) - ============ Loading Parameters ============\n",
            "2022-03-02 16:41:31,517 INFO  [main] index.IndexCollection (IndexCollection.java:648) - DocumentCollection path: collections/msmarco-passage/collection_jsonl\n",
            "2022-03-02 16:41:31,517 INFO  [main] index.IndexCollection (IndexCollection.java:649) - CollectionClass: JsonCollection\n",
            "2022-03-02 16:41:31,518 INFO  [main] index.IndexCollection (IndexCollection.java:650) - Generator: DefaultLuceneDocumentGenerator\n",
            "2022-03-02 16:41:31,518 INFO  [main] index.IndexCollection (IndexCollection.java:651) - Threads: 9\n",
            "2022-03-02 16:41:31,519 INFO  [main] index.IndexCollection (IndexCollection.java:652) - Language: en\n",
            "2022-03-02 16:41:31,519 INFO  [main] index.IndexCollection (IndexCollection.java:653) - Stemmer: porter\n",
            "2022-03-02 16:41:31,520 INFO  [main] index.IndexCollection (IndexCollection.java:654) - Keep stopwords? false\n",
            "2022-03-02 16:41:31,520 INFO  [main] index.IndexCollection (IndexCollection.java:655) - Stopwords: null\n",
            "2022-03-02 16:41:31,521 INFO  [main] index.IndexCollection (IndexCollection.java:656) - Store positions? true\n",
            "2022-03-02 16:41:31,521 INFO  [main] index.IndexCollection (IndexCollection.java:657) - Store docvectors? true\n",
            "2022-03-02 16:41:31,522 INFO  [main] index.IndexCollection (IndexCollection.java:658) - Store document \"contents\" field? false\n",
            "2022-03-02 16:41:31,522 INFO  [main] index.IndexCollection (IndexCollection.java:659) - Store document \"raw\" field? true\n",
            "2022-03-02 16:41:31,523 INFO  [main] index.IndexCollection (IndexCollection.java:660) - Optimize (merge segments)? false\n",
            "2022-03-02 16:41:31,523 INFO  [main] index.IndexCollection (IndexCollection.java:661) - Whitelist: null\n",
            "2022-03-02 16:41:31,524 INFO  [main] index.IndexCollection (IndexCollection.java:662) - Pretokenized?: false\n",
            "2022-03-02 16:41:31,524 INFO  [main] index.IndexCollection (IndexCollection.java:682) - Directly building Lucene indexes...\n",
            "2022-03-02 16:41:31,524 INFO  [main] index.IndexCollection (IndexCollection.java:683) - Index path: indexes/lucene-index-msmarco-passage\n",
            "2022-03-02 16:41:31,527 INFO  [main] index.IndexCollection (IndexCollection.java:738) - ============ Indexing Collection ============\n",
            "2022-03-02 16:41:31,884 INFO  [main] index.IndexCollection (IndexCollection.java:839) - Thread pool with 9 threads initialized.\n",
            "2022-03-02 16:41:31,885 INFO  [main] index.IndexCollection (IndexCollection.java:841) - Initializing collection in collections/msmarco-passage/collection_jsonl\n",
            "2022-03-02 16:41:31,889 INFO  [main] index.IndexCollection (IndexCollection.java:850) - 9 files found\n",
            "2022-03-02 16:41:31,889 INFO  [main] index.IndexCollection (IndexCollection.java:851) - Starting to index...\n",
            "2022-03-02 16:41:32,145 ERROR [pool-2-thread-9] collection.JsonCollection$Segment (JsonCollection.java:129) - Error: invalid JsonNode type\n",
            "2022-03-02 16:41:32,148 ERROR [pool-2-thread-4] collection.JsonCollection$Segment (JsonCollection.java:129) - Error: invalid JsonNode type\n",
            "2022-03-02 16:41:32,147 ERROR [pool-2-thread-1] collection.JsonCollection$Segment (JsonCollection.java:129) - Error: invalid JsonNode type\n",
            "2022-03-02 16:41:32,147 ERROR [pool-2-thread-2] collection.JsonCollection$Segment (JsonCollection.java:129) - Error: invalid JsonNode type\n",
            "2022-03-02 16:41:32,148 ERROR [pool-2-thread-8] collection.JsonCollection$Segment (JsonCollection.java:129) - Error: invalid JsonNode type\n",
            "2022-03-02 16:41:32,147 ERROR [pool-2-thread-3] collection.JsonCollection$Segment (JsonCollection.java:129) - Error: invalid JsonNode type\n",
            "2022-03-02 16:41:32,147 ERROR [pool-2-thread-5] collection.JsonCollection$Segment (JsonCollection.java:129) - Error: invalid JsonNode type\n",
            "2022-03-02 16:41:32,164 ERROR [pool-2-thread-7] collection.JsonCollection$Segment (JsonCollection.java:129) - Error: invalid JsonNode type\n",
            "2022-03-02 16:41:32,148 ERROR [pool-2-thread-6] collection.JsonCollection$Segment (JsonCollection.java:129) - Error: invalid JsonNode type\n",
            "2022-03-02 16:41:32,197 DEBUG [pool-2-thread-8] index.IndexCollection$LocalIndexerThread (IndexCollection.java:248) - collection_jsonl/docs03.json: 0 docs added.\n",
            "2022-03-02 16:41:32,198 DEBUG [pool-2-thread-1] index.IndexCollection$LocalIndexerThread (IndexCollection.java:248) - collection_jsonl/docs02.json: 0 docs added.\n",
            "2022-03-02 16:41:32,198 DEBUG [pool-2-thread-4] index.IndexCollection$LocalIndexerThread (IndexCollection.java:248) - collection_jsonl/docs01.json: 0 docs added.\n",
            "2022-03-02 16:41:32,198 DEBUG [pool-2-thread-5] index.IndexCollection$LocalIndexerThread (IndexCollection.java:248) - collection_jsonl/docs05.json: 0 docs added.\n",
            "2022-03-02 16:41:32,199 DEBUG [pool-2-thread-3] index.IndexCollection$LocalIndexerThread (IndexCollection.java:248) - collection_jsonl/docs06.json: 0 docs added.\n",
            "2022-03-02 16:41:32,200 DEBUG [pool-2-thread-2] index.IndexCollection$LocalIndexerThread (IndexCollection.java:248) - collection_jsonl/docs00.json: 0 docs added.\n",
            "2022-03-02 16:41:32,205 DEBUG [pool-2-thread-6] index.IndexCollection$LocalIndexerThread (IndexCollection.java:248) - collection_jsonl/docs04.json: 0 docs added.\n",
            "2022-03-02 16:41:32,206 DEBUG [pool-2-thread-7] index.IndexCollection$LocalIndexerThread (IndexCollection.java:248) - collection_jsonl/docs07.json: 0 docs added.\n",
            "2022-03-02 16:41:32,207 DEBUG [pool-2-thread-9] index.IndexCollection$LocalIndexerThread (IndexCollection.java:248) - collection_jsonl/docs08.json: 0 docs added.\n",
            "2022-03-02 16:41:32,244 INFO  [main] index.IndexCollection (IndexCollection.java:935) - Indexing Complete! 0 documents indexed\n",
            "2022-03-02 16:41:32,244 INFO  [main] index.IndexCollection (IndexCollection.java:936) - ============ Final Counter Values ============\n",
            "2022-03-02 16:41:32,244 INFO  [main] index.IndexCollection (IndexCollection.java:937) - indexed:                0\n",
            "2022-03-02 16:41:32,245 INFO  [main] index.IndexCollection (IndexCollection.java:938) - unindexable:            0\n",
            "2022-03-02 16:41:32,245 INFO  [main] index.IndexCollection (IndexCollection.java:939) - empty:                  0\n",
            "2022-03-02 16:41:32,245 INFO  [main] index.IndexCollection (IndexCollection.java:940) - skipped:                0\n",
            "2022-03-02 16:41:32,245 INFO  [main] index.IndexCollection (IndexCollection.java:941) - errors:                 0\n",
            "2022-03-02 16:41:32,253 INFO  [main] index.IndexCollection (IndexCollection.java:944) - Total 0 documents indexed in 00:00:00\n"
          ]
        }
      ]
    },
    {
      "cell_type": "markdown",
      "source": [
        "### Run Inference"
      ],
      "metadata": {
        "id": "GjdOf1u8QlpE"
      }
    },
    {
      "cell_type": "code",
      "source": [
        "!python -m pyserini.search.lucene \\\n",
        "  --index msmarco-passage \\\n",
        "  --topics msmarco-passage-dev-subset \\\n",
        "  --output run.msmarco-passage.bm25tuned.txt \\\n",
        "  --output-format msmarco \\\n",
        "  --hits 1000 \\\n",
        "  --bm25 --k1 0.82 --b 0.68"
      ],
      "metadata": {
        "colab": {
          "base_uri": "https://localhost:8080/"
        },
        "id": "s37Q7Z7LOayD",
        "outputId": "bb01573f-d385-48b9-a6a5-7a0513511007"
      },
      "execution_count": 8,
      "outputs": [
        {
          "output_type": "stream",
          "name": "stdout",
          "text": [
            "Using pre-defined topic order for msmarco-passage-dev-subset\n",
            "Attempting to initialize pre-built index msmarco-passage.\n",
            "Downloading index at https://rgw.cs.uwaterloo.ca/JIMMYLIN-bucket0/pyserini-indexes/index-msmarco-passage-20201117-f87c94.tar.gz...\n",
            "index-msmarco-passage-20201117-f87c94.tar.gz: 2.07GB [02:45, 13.4MB/s]                \n",
            "Extracting /root/.cache/pyserini/indexes/index-msmarco-passage-20201117-f87c94.tar.gz into /root/.cache/pyserini/indexes/index-msmarco-passage-20201117-f87c94.1efad4f1ae6a77e235042eff4be1612d...\n",
            "Initializing msmarco-passage...\n",
            "Setting BM25 parameters: k1=0.82, b=0.68\n",
            "Running msmarco-passage-dev-subset topics, saving to run.msmarco-passage.bm25tuned.txt...\n",
            "100% 6980/6980 [14:06<00:00,  8.25it/s]\n"
          ]
        }
      ]
    },
    {
      "cell_type": "code",
      "source": [
        "#MRR Eval\n",
        "!python -m pyserini.eval.msmarco_passage_eval collections/msmarco-passage/qrels.dev.small.tsv run.msmarco-passage.bm25tuned.txt >> bm25_mrr_eval.txt\n"
      ],
      "metadata": {
        "id": "mIQkMNV0QsXa"
      },
      "execution_count": 11,
      "outputs": []
    },
    {
      "cell_type": "code",
      "source": [
        "#TREC Eval\n",
        "!python -m pyserini.eval.convert_msmarco_run_to_trec_run --input run.msmarco-passage.bm25tuned.txt \\\n",
        "                                                         --output run.msmarco-passage.bm25tuned.trec\n",
        "\n",
        "!python -m pyserini.eval.trec_eval -c -mrecall.1000 \\\n",
        "                                      -mmap msmarco-passage-dev-subset \\\n",
        "                                      run.msmarco-passage.bm25tuned.trec >> bm25_trec_eval.txt"
      ],
      "metadata": {
        "colab": {
          "base_uri": "https://localhost:8080/"
        },
        "id": "F_t1EPXo-XIA",
        "outputId": "703c1bf1-596f-42d5-c7bc-f4cdb7125ea1"
      },
      "execution_count": 13,
      "outputs": [
        {
          "output_type": "stream",
          "name": "stdout",
          "text": [
            "jtreceval-0.0.5-jar-with-dependencies.jar: 1.79MB [00:00, 4.39MB/s]                \n"
          ]
        }
      ]
    },
    {
      "cell_type": "code",
      "source": [
        "!gsutil cp bm25_trec_eval.txt bm25_mrr_eval.txt run.msmarco-passage.bm25tuned.txt gs://luanps/information_retrieval/pyserini/bm25/"
      ],
      "metadata": {
        "colab": {
          "base_uri": "https://localhost:8080/"
        },
        "id": "Ja2YPt7NRLee",
        "outputId": "efed80e9-35e3-47f8-c1ac-32cdc17aa7cd"
      },
      "execution_count": 16,
      "outputs": [
        {
          "output_type": "stream",
          "name": "stdout",
          "text": [
            "Copying file://bm25_trec_eval.txt [Content-Type=text/plain]...\n",
            "Copying file://bm25_mrr_eval.txt [Content-Type=text/plain]...\n",
            "Copying file://run.msmarco-passage.bm25tuned.txt [Content-Type=text/plain]...\n",
            "/\n",
            "Operation completed over 3 objects/126.9 MiB.                                    \n"
          ]
        }
      ]
    }
  ]
}