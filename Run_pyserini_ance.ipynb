{
  "nbformat": 4,
  "nbformat_minor": 0,
  "metadata": {
    "colab": {
      "name": "Run pyserini - ance.ipynb",
      "provenance": [],
      "machine_shape": "hm",
      "background_execution": "on",
      "authorship_tag": "ABX9TyMpRmH8IPYwJjOQE6698eCA",
      "include_colab_link": true
    },
    "kernelspec": {
      "name": "python3",
      "display_name": "Python 3"
    },
    "language_info": {
      "name": "python"
    },
    "accelerator": "GPU"
  },
  "cells": [
    {
      "cell_type": "markdown",
      "metadata": {
        "id": "view-in-github",
        "colab_type": "text"
      },
      "source": [
        "<a href=\"https://colab.research.google.com/github/luanps/pyserini/blob/master/Run_pyserini_ance.ipynb\" target=\"_parent\"><img src=\"https://colab.research.google.com/assets/colab-badge.svg\" alt=\"Open In Colab\"/></a>"
      ]
    },
    {
      "cell_type": "markdown",
      "source": [
        "## Install dependencies"
      ],
      "metadata": {
        "id": "_NfPlP4fFwuH"
      }
    },
    {
      "cell_type": "code",
      "source": [
        "from google.colab import auth\n",
        "auth.authenticate_user()"
      ],
      "metadata": {
        "id": "U4QbbuVnLisS"
      },
      "execution_count": 1,
      "outputs": []
    },
    {
      "cell_type": "code",
      "source": [
        "%%capture\n",
        "!pip install pyserini\n",
        "\n",
        "import os\n",
        "os.environ[\"JAVA_HOME\"] = \"/usr/lib/jvm/java-11-openjdk-amd64\""
      ],
      "metadata": {
        "id": "-ycV2g24xYhc"
      },
      "execution_count": 2,
      "outputs": []
    },
    {
      "cell_type": "code",
      "source": [
        "!pip install faiss-cpu"
      ],
      "metadata": {
        "colab": {
          "base_uri": "https://localhost:8080/"
        },
        "id": "IIH-U0TG26By",
        "outputId": "78f1b6a1-decf-4d0d-8616-3b60bb882f8f"
      },
      "execution_count": 3,
      "outputs": [
        {
          "output_type": "stream",
          "name": "stdout",
          "text": [
            "Collecting faiss-cpu\n",
            "  Downloading faiss_cpu-1.7.2-cp37-cp37m-manylinux_2_17_x86_64.manylinux2014_x86_64.whl (8.6 MB)\n",
            "\u001b[K     |████████████████████████████████| 8.6 MB 15.7 MB/s \n",
            "\u001b[?25hInstalling collected packages: faiss-cpu\n",
            "Successfully installed faiss-cpu-1.7.2\n"
          ]
        }
      ]
    },
    {
      "cell_type": "markdown",
      "source": [
        "## Dense retrieval with ANCE - MSMARCO Passage Ranking"
      ],
      "metadata": {
        "id": "o0SedQeVFsUY"
      }
    },
    {
      "cell_type": "code",
      "source": [
        "!python -m pyserini.dsearch --topics msmarco-passage-dev-subset \\\n",
        "                             --index msmarco-passage-ance-bf \\\n",
        "                             --encoded-queries ance-msmarco-passage-dev-subset \\\n",
        "                             --batch-size 36 \\\n",
        "                             --threads 12 \\\n",
        "                             --output run.msmarco-passage.ance.bf.tsv \\\n",
        "                             --output-format msmarco"
      ],
      "metadata": {
        "colab": {
          "base_uri": "https://localhost:8080/"
        },
        "id": "K_mAjElIvPRd",
        "outputId": "c6a39131-028d-410c-96bd-8883ba52978a"
      },
      "execution_count": 4,
      "outputs": [
        {
          "output_type": "stream",
          "name": "stdout",
          "text": [
            "Using pre-defined topic order for msmarco-passage-dev-subset\n",
            "Attempting to initialize pre-encoded queries ance-msmarco-passage-dev-subset.\n",
            "Downloading index at https://github.com/castorini/pyserini-data/raw/main/encoded-queries/query-embedding-ance-msmarco-passage-dev-subset-20210419-9323ec.tar.gz...\n",
            "query-embedding-ance-msmarco-passage-dev-subset-20210419-9323ec.tar.gz: 19.0MB [00:01, 14.7MB/s]                \n",
            "Extracting /root/.cache/pyserini/queries/query-embedding-ance-msmarco-passage-dev-subset-20210419-9323ec.tar.gz into /root/.cache/pyserini/queries/query-embedding-ance-msmarco-passage-dev-subset-20210419-9323ec.adad81bb1495eff2f0463e809ecc01b8...\n",
            "Initializing ance-msmarco-passage-dev-subset...\n",
            "Attempting to initialize pre-built index msmarco-passage-ance-bf.\n",
            "Downloading index at https://rgw.cs.uwaterloo.ca/JIMMYLIN-bucket0/pyserini-indexes/dindex-msmarco-passage-ance-bf-20210224-060cef.tar.gz...\n",
            "dindex-msmarco-passage-ance-bf-20210224-060cef.tar.gz: 23.4GB [16:09, 25.9MB/s]                \n",
            "Extracting /root/.cache/pyserini/indexes/dindex-msmarco-passage-ance-bf-20210224-060cef.tar.gz into /root/.cache/pyserini/indexes/dindex-msmarco-passage-ance-bf-20210224-060cef.f6332edb8f06ba796850388cf975b414...\n",
            "Initializing msmarco-passage-ance-bf...\n",
            "tcmalloc: large alloc 27162083328 bytes == 0x555715eaa000 @  0x7f220fa2d887 0x7f2086524ce1 0x7f208652d6b3 0x7f20863cbf90 0x55570b79c258 0x55570b8d018e 0x55570b8c99ee 0x55570b85cbda 0x55570b8ced00 0x55570b85cafa 0x55570b8cac0d 0x55570b8c99ee 0x55570b85d271 0x55570b89e159 0x55570b89b0a4 0x55570b85bc52 0x55570b8cec25 0x55570b85cafa 0x55570b8ced00 0x55570b8c99ee 0x55570b8c96f3 0x55570b8c7b60 0x55570b85b349 0x55570b85b240 0x55570b8ce973 0x55570b8c99ee 0x55570b85cbda 0x55570b8ca915 0x55570b8c99ee 0x55570b79beb0 0x55570b96d581\n",
            "Attempting to initialize pre-built index msmarco-passage.\n",
            "Downloading index at https://rgw.cs.uwaterloo.ca/JIMMYLIN-bucket0/pyserini-indexes/index-msmarco-passage-20201117-f87c94.tar.gz...\n",
            "index-msmarco-passage-20201117-f87c94.tar.gz: 2.07GB [01:30, 24.6MB/s]                \n",
            "Extracting /root/.cache/pyserini/indexes/index-msmarco-passage-20201117-f87c94.tar.gz into /root/.cache/pyserini/indexes/index-msmarco-passage-20201117-f87c94.1efad4f1ae6a77e235042eff4be1612d...\n",
            "Initializing msmarco-passage...\n",
            "Running msmarco-passage-dev-subset topics, saving to run.msmarco-passage.ance.bf.tsv...\n",
            "100% 6980/6980 [55:52<00:00,  2.08it/s]\n"
          ]
        }
      ]
    },
    {
      "cell_type": "code",
      "source": [
        "!gsutil cp run.* gs://luanps/information_retrieval/pyserini/ance/"
      ],
      "metadata": {
        "colab": {
          "base_uri": "https://localhost:8080/"
        },
        "id": "k9OI5KlzvYhK",
        "outputId": "507324af-b827-44d6-c386-b193a0dd40c6"
      },
      "execution_count": 5,
      "outputs": [
        {
          "output_type": "stream",
          "name": "stdout",
          "text": [
            "Copying file://run.msmarco-passage.ance.bf.tsv [Content-Type=text/tab-separated-values]...\n",
            "/\n",
            "Operation completed over 1 objects/127.0 MiB.                                    \n"
          ]
        }
      ]
    },
    {
      "cell_type": "markdown",
      "source": [
        "### Evaluation"
      ],
      "metadata": {
        "id": "rCnE_TM0NgZ2"
      }
    },
    {
      "cell_type": "code",
      "source": [
        "#MRR Eval\n",
        "!python -m pyserini.eval.msmarco_passage_eval msmarco-passage-dev-subset run.msmarco-passage.ance.bf.tsv >> msmarco_passage_mrr_eval.txt"
      ],
      "metadata": {
        "id": "sgJ9Kc2UM3Lm",
        "colab": {
          "base_uri": "https://localhost:8080/"
        },
        "outputId": "6ca80f8c-1d2b-4621-d4f9-4d157aa1068d"
      },
      "execution_count": 6,
      "outputs": [
        {
          "output_type": "stream",
          "name": "stdout",
          "text": [
            "msmarco_passage_eval.py: 8.00kB [00:00, 34.8kB/s]\n"
          ]
        }
      ]
    },
    {
      "cell_type": "code",
      "source": [
        "#TREC Eval\n",
        "!python -m pyserini.eval.convert_msmarco_run_to_trec_run --input run.msmarco-passage.ance.bf.tsv \\\n",
        "                                                         --output run.msmarco-passage.ance.bf.trec\n",
        "\n",
        "!python -m pyserini.eval.trec_eval -c -mrecall.1000 \\\n",
        "                                      -mmap msmarco-passage-dev-subset \\\n",
        "                                      run.msmarco-passage.ance.bf.trec >> msmarco_passage_eval_eval.txt"
      ],
      "metadata": {
        "colab": {
          "base_uri": "https://localhost:8080/"
        },
        "id": "SXCWom8RNzZY",
        "outputId": "79556337-a68a-4e98-93b9-b0598dec6a87"
      },
      "execution_count": 7,
      "outputs": [
        {
          "output_type": "stream",
          "name": "stdout",
          "text": [
            "Done!\n",
            "jtreceval-0.0.5-jar-with-dependencies.jar: 1.79MB [00:00, 3.12MB/s]                \n"
          ]
        }
      ]
    },
    {
      "cell_type": "code",
      "source": [
        "!gsutil cp msmarco_passage_trec_eval.txt msmarco_passage_mrr_eval.txt gs://luanps/information_retrieval/pyserini/ance/"
      ],
      "metadata": {
        "colab": {
          "base_uri": "https://localhost:8080/"
        },
        "id": "QxRQZK9OPkZU",
        "outputId": "d742f052-cf66-43fa-8f1a-0fc6034da694"
      },
      "execution_count": 8,
      "outputs": [
        {
          "output_type": "stream",
          "name": "stdout",
          "text": [
            "Copying file://trec_eval.txt [Content-Type=text/plain]...\n",
            "Copying file://mrr_eval.txt [Content-Type=text/plain]...\n",
            "/ [2 files][   1023 B/   1023 B]                                                \n",
            "Operation completed over 2 objects/1023.0 B.                                     \n"
          ]
        }
      ]
    },
    {
      "cell_type": "markdown",
      "source": [
        "## Dense retrieval with ANCE - MSMARCO Document Ranking"
      ],
      "metadata": {
        "id": "YAGhpmuejxWM"
      }
    },
    {
      "cell_type": "code",
      "source": [
        "!python -m pyserini.dsearch --topics msmarco-doc-dev \\\n",
        "                             --index msmarco-doc-ance-maxp-bf \\\n",
        "                             --encoded-queries ance_maxp-msmarco-doc-dev \\\n",
        "                             --output run.msmarco-doc.passage.ance-maxp.txt \\\n",
        "                             --hits 1000 \\\n",
        "                             --max-passage \\\n",
        "                             --max-passage-hits 100 \\\n",
        "                             --output-format msmarco \\\n",
        "                             --batch-size 36 \\\n",
        "                             --threads 12"
      ],
      "metadata": {
        "id": "if_qKE8VlFM3",
        "outputId": "dc58dcb4-4dab-4cd3-ee4c-d314c12b8898",
        "colab": {
          "base_uri": "https://localhost:8080/"
        }
      },
      "execution_count": null,
      "outputs": [
        {
          "output_type": "stream",
          "name": "stdout",
          "text": [
            "Using pre-defined topic order for msmarco-doc-dev\n",
            "Attempting to initialize pre-encoded queries ance_maxp-msmarco-doc-dev.\n",
            "Downloading index at https://github.com/castorini/pyserini-data/raw/main/encoded-queries/query-embedding-ance_maxp-msmarco-doc-dev-20210419-9323ec.tar.gz...\n",
            "query-embedding-ance_maxp-msmarco-doc-dev-20210419-9323ec.tar.gz: 14.2MB [00:00, 16.4MB/s]                \n",
            "Extracting /root/.cache/pyserini/queries/query-embedding-ance_maxp-msmarco-doc-dev-20210419-9323ec.tar.gz into /root/.cache/pyserini/queries/query-embedding-ance_maxp-msmarco-doc-dev-20210419-9323ec.3d41ae797cb97e42649c4f4fa7b97d56...\n",
            "Initializing ance_maxp-msmarco-doc-dev...\n",
            "Attempting to initialize pre-built index msmarco-doc-ance-maxp-bf.\n",
            "Downloading index at https://rgw.cs.uwaterloo.ca/JIMMYLIN-bucket0/pyserini-indexes/dindex-msmarco-doc-ance_maxp-bf-20210304-b2a1b0.tar.gz...\n",
            "dindex-msmarco-doc-ance_maxp-bf-20210304-b2a1b0.tar.gz:  10% 5.36G/54.3G [03:57<29:30, 29.7MB/s]"
          ]
        }
      ]
    },
    {
      "cell_type": "code",
      "source": [
        "!gsutil cp run.* gs://luanps/information_retrieval/pyserini/ance/"
      ],
      "metadata": {
        "id": "3o_PqR4TlKH2"
      },
      "execution_count": null,
      "outputs": []
    },
    {
      "cell_type": "markdown",
      "source": [
        "### Evaluation"
      ],
      "metadata": {
        "id": "j20sjH1cluy0"
      }
    },
    {
      "cell_type": "code",
      "source": [
        "#MRR Eval\n",
        "!$ python -m pyserini.eval.msmarco_doc_eval --judgments msmarco-doc-dev --run run.msmarco-doc.passage.ance-maxp.txt >> msmarco_document_mrr_eval.txt"
      ],
      "metadata": {
        "id": "_FwLHfXzlU3g"
      },
      "execution_count": null,
      "outputs": []
    },
    {
      "cell_type": "code",
      "source": [
        "#TREC Eval\n",
        "! python -m pyserini.eval.convert_msmarco_run_to_trec_run --input/run.msmarco-doc.passage.ance-maxp.txt \\\n",
        "                                                          --output run.msmarco-doc.passage.ance-maxp.trec\n",
        "\n",
        "! python -m pyserini.eval.trec_eval -c -mrecall.100 -mmap msmarco-doc-dev run.msmarco-doc.passage.ance-maxp.trec >> msmarco_document_trec_eval.txt"
      ],
      "metadata": {
        "id": "Nha__sw-mRgY"
      },
      "execution_count": null,
      "outputs": []
    }
  ]
}