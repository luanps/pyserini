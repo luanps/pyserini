{
  "nbformat": 4,
  "nbformat_minor": 0,
  "metadata": {
    "colab": {
      "name": "Run pyserini - ance.ipynb",
      "provenance": [],
      "machine_shape": "hm",
      "background_execution": "on",
      "authorship_tag": "ABX9TyO/jy3k1CPW7e+o10x8ZDXu",
      "include_colab_link": true
    },
    "kernelspec": {
      "name": "python3",
      "display_name": "Python 3"
    },
    "language_info": {
      "name": "python"
    },
    "accelerator": "GPU"
  },
  "cells": [
    {
      "cell_type": "markdown",
      "metadata": {
        "id": "view-in-github",
        "colab_type": "text"
      },
      "source": [
        "<a href=\"https://colab.research.google.com/github/luanps/pyserini/blob/master/Run_pyserini_ance.ipynb\" target=\"_parent\"><img src=\"https://colab.research.google.com/assets/colab-badge.svg\" alt=\"Open In Colab\"/></a>"
      ]
    },
    {
      "cell_type": "markdown",
      "source": [
        "## Install dependencies"
      ],
      "metadata": {
        "id": "_NfPlP4fFwuH"
      }
    },
    {
      "cell_type": "code",
      "source": [
        "from google.colab import auth\n",
        "auth.authenticate_user()"
      ],
      "metadata": {
        "id": "U4QbbuVnLisS"
      },
      "execution_count": 1,
      "outputs": []
    },
    {
      "cell_type": "code",
      "source": [
        "%%capture\n",
        "!pip install pyserini\n",
        "\n",
        "import os\n",
        "os.environ[\"JAVA_HOME\"] = \"/usr/lib/jvm/java-11-openjdk-amd64\""
      ],
      "metadata": {
        "id": "-ycV2g24xYhc"
      },
      "execution_count": 2,
      "outputs": []
    },
    {
      "cell_type": "markdown",
      "source": [
        ""
      ],
      "metadata": {
        "id": "JTzQmpe6VXmR"
      }
    },
    {
      "cell_type": "code",
      "source": [
        "!pip install faiss-cpu"
      ],
      "metadata": {
        "colab": {
          "base_uri": "https://localhost:8080/"
        },
        "id": "IIH-U0TG26By",
        "outputId": "5fd3f1db-a79a-415a-ea63-b563d370e164"
      },
      "execution_count": 3,
      "outputs": [
        {
          "output_type": "stream",
          "name": "stdout",
          "text": [
            "Collecting faiss-cpu\n",
            "  Downloading faiss_cpu-1.7.2-cp37-cp37m-manylinux_2_17_x86_64.manylinux2014_x86_64.whl (8.6 MB)\n",
            "\u001b[K     |████████████████████████████████| 8.6 MB 10.0 MB/s \n",
            "\u001b[?25hInstalling collected packages: faiss-cpu\n",
            "Successfully installed faiss-cpu-1.7.2\n"
          ]
        }
      ]
    },
    {
      "cell_type": "markdown",
      "source": [
        "## Dense retrieval with ANCE - MSMARCO Passage Ranking"
      ],
      "metadata": {
        "id": "o0SedQeVFsUY"
      }
    },
    {
      "cell_type": "code",
      "source": [
        "!python -m pyserini.dsearch --topics msmarco-passage-dev-subset \\\n",
        "                             --index msmarco-passage-ance-bf \\\n",
        "                             --encoded-queries ance-msmarco-passage-dev-subset \\\n",
        "                             --batch-size 36 \\\n",
        "                             --threads 12 \\\n",
        "                             --output run.msmarco-passage.ance.bf.tsv \\\n",
        "                             --output-format msmarco"
      ],
      "metadata": {
        "id": "K_mAjElIvPRd"
      },
      "execution_count": null,
      "outputs": []
    },
    {
      "cell_type": "code",
      "source": [
        "!gsutil cp run.* gs://luanps/information_retrieval/pyserini/ance/"
      ],
      "metadata": {
        "id": "k9OI5KlzvYhK"
      },
      "execution_count": null,
      "outputs": []
    },
    {
      "cell_type": "markdown",
      "source": [
        "### Evaluation"
      ],
      "metadata": {
        "id": "rCnE_TM0NgZ2"
      }
    },
    {
      "cell_type": "code",
      "source": [
        "#MRR Eval\n",
        "!python -m pyserini.eval.msmarco_passage_eval msmarco-passage-dev-subset run.msmarco-passage.ance.bf.tsv >> msmarco_passage_mrr_eval.txt"
      ],
      "metadata": {
        "id": "sgJ9Kc2UM3Lm"
      },
      "execution_count": null,
      "outputs": []
    },
    {
      "cell_type": "code",
      "source": [
        "#TREC Eval\n",
        "!python -m pyserini.eval.convert_msmarco_run_to_trec_run --input run.msmarco-passage.ance.bf.tsv \\\n",
        "                                                         --output run.msmarco-passage.ance.bf.trec\n",
        "\n",
        "!python -m pyserini.eval.trec_eval -c -mrecall.1000 \\\n",
        "                                      -mmap msmarco-passage-dev-subset \\\n",
        "                                      run.msmarco-passage.ance.bf.trec >> msmarco_passage_eval_eval.txt"
      ],
      "metadata": {
        "id": "SXCWom8RNzZY"
      },
      "execution_count": null,
      "outputs": []
    },
    {
      "cell_type": "code",
      "source": [
        "!gsutil cp msmarco_passage_trec_eval.txt msmarco_passage_mrr_eval.txt gs://luanps/information_retrieval/pyserini/ance/"
      ],
      "metadata": {
        "id": "QxRQZK9OPkZU"
      },
      "execution_count": null,
      "outputs": []
    },
    {
      "cell_type": "markdown",
      "source": [
        "## Dense retrieval with ANCE - MSMARCO Document Ranking"
      ],
      "metadata": {
        "id": "YAGhpmuejxWM"
      }
    },
    {
      "cell_type": "code",
      "source": [
        "!python -m pyserini.dsearch --topics msmarco-doc-dev \\\n",
        "                             --index msmarco-doc-ance-maxp-bf \\\n",
        "                             --encoded-queries ance_maxp-msmarco-doc-dev \\\n",
        "                             --output run.msmarco-doc.passage.ance-maxp.txt \\\n",
        "                             --hits 1000 \\\n",
        "                             --max-passage \\\n",
        "                             --max-passage-hits 100 \\\n",
        "                             --output-format msmarco \\\n",
        "                             --batch-size 36 \\\n",
        "                             --threads 12"
      ],
      "metadata": {
        "colab": {
          "base_uri": "https://localhost:8080/"
        },
        "id": "if_qKE8VlFM3",
        "outputId": "d6324f57-f6eb-4996-9eb0-e6f091832eba"
      },
      "execution_count": null,
      "outputs": [
        {
          "output_type": "stream",
          "name": "stdout",
          "text": [
            "Using pre-defined topic order for msmarco-doc-dev\n",
            "Attempting to initialize pre-encoded queries ance_maxp-msmarco-doc-dev.\n",
            "Downloading index at https://github.com/castorini/pyserini-data/raw/main/encoded-queries/query-embedding-ance_maxp-msmarco-doc-dev-20210419-9323ec.tar.gz...\n",
            "query-embedding-ance_maxp-msmarco-doc-dev-20210419-9323ec.tar.gz: 14.2MB [00:00, 15.5MB/s]                \n",
            "Extracting /root/.cache/pyserini/queries/query-embedding-ance_maxp-msmarco-doc-dev-20210419-9323ec.tar.gz into /root/.cache/pyserini/queries/query-embedding-ance_maxp-msmarco-doc-dev-20210419-9323ec.3d41ae797cb97e42649c4f4fa7b97d56...\n",
            "Initializing ance_maxp-msmarco-doc-dev...\n",
            "Attempting to initialize pre-built index msmarco-doc-ance-maxp-bf.\n",
            "Downloading index at https://rgw.cs.uwaterloo.ca/JIMMYLIN-bucket0/pyserini-indexes/dindex-msmarco-doc-ance_maxp-bf-20210304-b2a1b0.tar.gz...\n",
            "dindex-msmarco-doc-ance_maxp-bf-20210304-b2a1b0.tar.gz:   5% 2.63G/54.3G [01:50<41:27, 22.3MB/s]"
          ]
        }
      ]
    },
    {
      "cell_type": "code",
      "source": [
        "!gsutil cp run.* gs://luanps/information_retrieval/pyserini/ance/"
      ],
      "metadata": {
        "id": "3o_PqR4TlKH2"
      },
      "execution_count": null,
      "outputs": []
    },
    {
      "cell_type": "markdown",
      "source": [
        "### Evaluation"
      ],
      "metadata": {
        "id": "j20sjH1cluy0"
      }
    },
    {
      "cell_type": "code",
      "source": [
        "#MRR Eval\n",
        "! python -m pyserini.eval.msmarco_doc_eval --judgments msmarco-doc-dev --run run.msmarco-doc.passage.ance-maxp.txt >> msmarco_document_mrr_eval.txt"
      ],
      "metadata": {
        "id": "_FwLHfXzlU3g"
      },
      "execution_count": null,
      "outputs": []
    },
    {
      "cell_type": "code",
      "source": [
        "#TREC Eval\n",
        "! python -m pyserini.eval.convert_msmarco_run_to_trec_run --input/run.msmarco-doc.passage.ance-maxp.txt \\\n",
        "                                                          --output run.msmarco-doc.passage.ance-maxp.trec\n",
        "\n",
        "! python -m pyserini.eval.trec_eval -c -mrecall.100 -mmap msmarco-doc-dev run.msmarco-doc.passage.ance-maxp.trec >> msmarco_document_trec_eval.txt"
      ],
      "metadata": {
        "id": "Nha__sw-mRgY"
      },
      "execution_count": null,
      "outputs": []
    },
    {
      "cell_type": "code",
      "source": [
        "!gsutil cp msmarco_document_trec_eval.txt msmarco_document_mrr_eval.txt gs://luanps/information_retrieval/pyserini/ance/"
      ],
      "metadata": {
        "id": "n3KGSIFWV0uT"
      },
      "execution_count": null,
      "outputs": []
    }
  ]
}