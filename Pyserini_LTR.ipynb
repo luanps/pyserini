{
  "nbformat": 4,
  "nbformat_minor": 0,
  "metadata": {
    "colab": {
      "name": "Pyserini - LTR.ipynb",
      "provenance": [],
      "collapsed_sections": [
        "DtMzFWaFLBxv"
      ],
      "authorship_tag": "ABX9TyMX+eqdd+ltK2fDuOMHF17M",
      "include_colab_link": true
    },
    "kernelspec": {
      "name": "python3",
      "display_name": "Python 3"
    },
    "language_info": {
      "name": "python"
    }
  },
  "cells": [
    {
      "cell_type": "markdown",
      "metadata": {
        "id": "view-in-github",
        "colab_type": "text"
      },
      "source": [
        "<a href=\"https://colab.research.google.com/github/luanps/pyserini/blob/master/Pyserini_LTR.ipynb\" target=\"_parent\"><img src=\"https://colab.research.google.com/assets/colab-badge.svg\" alt=\"Open In Colab\"/></a>"
      ]
    },
    {
      "cell_type": "markdown",
      "source": [
        "## LTR - Learning-To-Rank Reranking Models for MS MARCO Passage\n"
      ],
      "metadata": {
        "id": "ekFmONZUGNnl"
      }
    },
    {
      "cell_type": "markdown",
      "source": [
        "### Install Dependencies"
      ],
      "metadata": {
        "id": "DtMzFWaFLBxv"
      }
    },
    {
      "cell_type": "code",
      "source": [
        "from google.colab import auth\n",
        "auth.authenticate_user()"
      ],
      "metadata": {
        "id": "mtJGBBXeCkhI"
      },
      "execution_count": 1,
      "outputs": []
    },
    {
      "cell_type": "code",
      "source": [
        "!gsutil cp gs://luanps/information_retrieval/pyserini/bm25/run.msmarco-passage.bm25tuned.txt ."
      ],
      "metadata": {
        "colab": {
          "base_uri": "https://localhost:8080/"
        },
        "id": "LAN3H8gdCvzG",
        "outputId": "7266ab30-e404-4fca-f573-9ceafb1f9674"
      },
      "execution_count": 2,
      "outputs": [
        {
          "output_type": "stream",
          "name": "stdout",
          "text": [
            "Copying gs://luanps/information_retrieval/pyserini/bm25/run.msmarco-passage.bm25tuned.txt...\n",
            "/\n",
            "Operation completed over 1 objects/126.9 MiB.                                    \n"
          ]
        }
      ]
    },
    {
      "cell_type": "code",
      "execution_count": 3,
      "metadata": {
        "id": "J5bCNTymGI2E",
        "colab": {
          "base_uri": "https://localhost:8080/"
        },
        "outputId": "f17cee35-8e4a-42f7-a807-6c16089d6c24"
      },
      "outputs": [
        {
          "output_type": "stream",
          "name": "stdout",
          "text": [
            "Cloning into 'pyserini'...\n",
            "remote: Enumerating objects: 4369, done.\u001b[K\n",
            "remote: Counting objects: 100% (3/3), done.\u001b[K\n",
            "remote: Compressing objects: 100% (3/3), done.\u001b[K\n",
            "remote: Total 4369 (delta 0), reused 0 (delta 0), pack-reused 4366\u001b[K\n",
            "Receiving objects: 100% (4369/4369), 2.13 MiB | 3.83 MiB/s, done.\n",
            "Resolving deltas: 100% (3001/3001), done.\n",
            "Submodule 'tools' (https://github.com/castorini/anserini-tools.git) registered for path 'tools'\n",
            "Cloning into '/content/pyserini/tools'...\n",
            "remote: Enumerating objects: 353, done.        \n",
            "remote: Counting objects: 100% (110/110), done.        \n",
            "remote: Compressing objects: 100% (84/84), done.        \n",
            "remote: Total 353 (delta 54), reused 63 (delta 25), pack-reused 243        \n",
            "Receiving objects: 100% (353/353), 23.60 MiB | 14.29 MiB/s, done.\n",
            "Resolving deltas: 100% (138/138), done.\n",
            "Submodule path 'tools': checked out '22492bec66c55033dedfdab5b04457ee93c8ff43'\n"
          ]
        }
      ],
      "source": [
        "!git clone https://github.com/luanps/pyserini.git  --recurse-submodules"
      ]
    },
    {
      "cell_type": "code",
      "source": [
        "!pip install pyserini "
      ],
      "metadata": {
        "id": "ciph9Vw4Ka5L"
      },
      "execution_count": null,
      "outputs": []
    },
    {
      "cell_type": "code",
      "source": [
        "!pip install -U pip setuptools wheel\n",
        "!pip install -U spacy\n",
        "!python -m spacy download en_core_web_sm"
      ],
      "metadata": {
        "id": "27uC8sG7HL5h"
      },
      "execution_count": null,
      "outputs": []
    },
    {
      "cell_type": "code",
      "source": [
        "!pip install faiss-cpu"
      ],
      "metadata": {
        "id": "7pc5TNOHUfR3"
      },
      "execution_count": null,
      "outputs": []
    },
    {
      "cell_type": "code",
      "source": [
        "!wget https://rgw.cs.uwaterloo.ca/JIMMYLIN-bucket0/pyserini-models/model-ltr-ibm.tar.gz -P collections/msmarco-ltr-passage/\n",
        "!tar -xzvf collections/msmarco-ltr-passage/model-ltr-ibm.tar.gz -C collections/msmarco-ltr-passage/\n",
        "\n",
        "!wget https://rgw.cs.uwaterloo.ca/JIMMYLIN-bucket0/pyserini-models/model-ltr-msmarco-passage-mrr-v1.tar.gz -P runs/\n",
        "!tar -xzvf runs/model-ltr-msmarco-passage-mrr-v1.tar.gz -C runs"
      ],
      "metadata": {
        "id": "dq20sKdOLZY7"
      },
      "execution_count": null,
      "outputs": []
    },
    {
      "cell_type": "code",
      "source": [
        "#Download MSMARCO dataset\n",
        "\n",
        "!mkdir collections/msmarco-passage\n",
        "!wget https://msmarco.blob.core.windows.net/msmarcoranking/collectionandqueries.tar.gz -P collections/msmarco-passage\n",
        "# Alternative mirror:\n",
        "# wget https://www.dropbox.com/s/9f54jg2f71ray3b/collectionandqueries.tar.gz -P collections/msmarco-passage\n",
        "!tar xvfz collections/msmarco-passage/collectionandqueries.tar.gz -C collections/msmarco-passage"
      ],
      "metadata": {
        "colab": {
          "base_uri": "https://localhost:8080/"
        },
        "id": "wPcArEOjK8ug",
        "outputId": "e5a261ac-158d-4d0d-d8f7-08a636034edd"
      },
      "execution_count": 8,
      "outputs": [
        {
          "output_type": "stream",
          "name": "stdout",
          "text": [
            "--2022-03-03 08:59:40--  https://msmarco.blob.core.windows.net/msmarcoranking/collectionandqueries.tar.gz\n",
            "Resolving msmarco.blob.core.windows.net (msmarco.blob.core.windows.net)... 20.150.34.4\n",
            "Connecting to msmarco.blob.core.windows.net (msmarco.blob.core.windows.net)|20.150.34.4|:443... connected.\n",
            "HTTP request sent, awaiting response... 200 OK\n",
            "Length: 1057717952 (1009M) [application/gzip]\n",
            "Saving to: ‘collections/msmarco-passage/collectionandqueries.tar.gz’\n",
            "\n",
            "collectionandquerie 100%[===================>]   1009M  8.19MB/s    in 3m 10s  \n",
            "\n",
            "2022-03-03 09:02:51 (5.32 MB/s) - ‘collections/msmarco-passage/collectionandqueries.tar.gz’ saved [1057717952/1057717952]\n",
            "\n",
            "collection.tsv\n",
            "qrels.dev.small.tsv\n",
            "qrels.train.tsv\n",
            "queries.dev.small.tsv\n",
            "queries.dev.tsv\n",
            "queries.eval.small.tsv\n",
            "queries.eval.tsv\n",
            "queries.train.tsv\n"
          ]
        }
      ]
    },
    {
      "cell_type": "code",
      "source": [
        "!cp -r pyserini/tools/ .\n",
        "!cp -r pyserini/scripts ."
      ],
      "metadata": {
        "id": "qNfh4xz71Muk"
      },
      "execution_count": 9,
      "outputs": []
    },
    {
      "cell_type": "markdown",
      "source": [
        "### Run LTR inference"
      ],
      "metadata": {
        "id": "gP6TIgN9LBIu"
      }
    },
    {
      "cell_type": "code",
      "source": [
        "!mkdir collections/msmarco-ltr-passage/\n",
        "\n",
        "!python pyserini/scripts/ltr_msmarco/convert_queries.py \\\n",
        "  --input collections/msmarco-passage/queries.eval.small.tsv \\\n",
        "  --output collections/msmarco-ltr-passage/queries.eval.small.json \n",
        "\n",
        "!python pyserini/scripts/ltr_msmarco/convert_queries.py \\\n",
        "  --input collections/msmarco-passage/queries.dev.small.tsv \\\n",
        "  --output collections/msmarco-ltr-passage/queries.dev.small.json\n",
        "\n",
        "!python pyserini/scripts/ltr_msmarco/convert_queries.py \\\n",
        "  --input collections/msmarco-passage/queries.train.tsv \\\n",
        "  --output collections/msmarco-ltr-passage/queries.train.json\n",
        "\n",
        "!gsutil cp -r collections/msmarco-ltr-passage/  gs://luanps/information_retrieval/pyserini/ltr/"
      ],
      "metadata": {
        "id": "uuliIi8t_U0z"
      },
      "execution_count": null,
      "outputs": []
    },
    {
      "cell_type": "code",
      "source": [
        "#!gsutil cp -r   gs://luanps/information_retrieval/pyserini/ltr/msmarco-ltr-passage/ collections/"
      ],
      "metadata": {
        "id": "hlT7smPeACev"
      },
      "execution_count": null,
      "outputs": []
    },
    {
      "cell_type": "code",
      "source": [
        "!python -m pyserini.search.lucene.ltr  --input run.msmarco-passage.bm25tuned.txt \\\n",
        "  --input-format tsv \\\n",
        "  --model runs/msmarco-passage-ltr-mrr-v1 \\\n",
        "  --index msmarco-passage-ltr \\\n",
        "  --data passage \\\n",
        "  --ibm-model collections/msmarco-ltr-passage/ibm_model/ \\\n",
        "  --queries collections/msmarco-ltr-passage \\\n",
        "--output run.ltr.msmarco-passage.tsv "
      ],
      "metadata": {
        "colab": {
          "base_uri": "https://localhost:8080/"
        },
        "id": "g6PNQJnsKlKG",
        "outputId": "e7233f43-e944-443c-a757-ea09bec26256"
      },
      "execution_count": null,
      "outputs": [
        {
          "metadata": {
            "tags": null
          },
          "name": "stdout",
          "output_type": "stream",
          "text": [
            "Attempting to initialize pre-built index msmarco-passage-ltr.\n",
            "Downloading index at https://rgw.cs.uwaterloo.ca/JIMMYLIN-bucket0/pyserini-indexes/index-msmarco-passage-ltr-20210519-e25e33f.tar.gz...\n",
            "index-msmarco-passage-ltr-20210519-e25e33f.tar.gz: 13.1GB [15:14, 15.4MB/s]                \n",
            "Extracting /root/.cache/pyserini/indexes/index-msmarco-passage-ltr-20210519-e25e33f.tar.gz into /root/.cache/pyserini/indexes/index-msmarco-passage-ltr-20210519-e25e33f.a5de642c268ac1ed5892c069bdc29ae3...\n",
            "Initializing msmarco-passage-ltr...\n",
            "Attempting to initialize pre-built index msmarco-passage-ltr.\n",
            "/root/.cache/pyserini/indexes/index-msmarco-passage-ltr-20210519-e25e33f.a5de642c268ac1ed5892c069bdc29ae3 already exists, skipping download.\n",
            "Initializing msmarco-passage-ltr...\n",
            "analyzed contents\n",
            "text_unlemm text_unlemm\n",
            "text_bert_tok text_bert_tok\n",
            "IBM model Load takes 16.11 seconds\n",
            "IBM model Load takes 30.96 seconds\n",
            "IBM model Load takes 328.76 seconds\n",
            "IBM model Load takes 99.07 seconds\n",
            "---------------------loading dev----------------------------------------\n",
            "(6974598, 2)\n",
            "(6980,)\n",
            "rank    999.226074\n",
            "rel     999.226074\n",
            "dtype: float64\n",
            "                 rank  rel\n",
            "qid     pid               \n",
            "1000000 1037824   173    0\n",
            "        1037828   813    0\n",
            "        1037830   912    0\n",
            "        1037832   537    0\n",
            "        1072976   197    0\n",
            "        107330    626    0\n",
            "        1077279   200    0\n",
            "        1115562   760    0\n",
            "        1121786   866    0\n",
            "        1124405   994    0\n",
            "<class 'pandas.core.frame.DataFrame'>\n",
            "MultiIndex: 6974598 entries, ('1000000', '1037824') to ('999942', '996294')\n",
            "Data columns (total 2 columns):\n",
            " #   Column  Dtype\n",
            "---  ------  -----\n",
            " 0   rank    int32\n",
            " 1   rel     int32\n",
            "dtypes: int32(2)\n",
            "memory usage: 251.6+ MB\n",
            "None\n",
            "100% 6980/6980 [01:06<00:00, 104.20it/s]\n",
            "recall@10:0.39159503342884433\n",
            "recall@20:0.48416905444126074\n",
            "recall@50:0.5923352435530086\n",
            "recall@100:0.6701408787010505\n",
            "recall@200:0.7382760267430755\n",
            "recall@500:0.8115568290353391\n",
            "recall@1000:0.8573424068767909\n",
            "recall@2000:0.8573424068767909\n",
            "recall@5000:0.8573424068767909\n",
            "recall@10000:0.8573424068767909\n",
            "---------------------loading queries----------------------------------------\n",
            " 14% 989/6980 [00:20<01:00, 98.60it/s](1000000, 253)\n",
            "(1000,)\n",
            "qid         inf\n",
            "count    1000.0\n",
            "dtype: float64\n",
            "   contents_analyzed_BM25Stat_sum_k1_2.00_b_0.75  ...  text_bert_tok_text_bert_tok_IbmModel1_text_bert_tok\n",
            "0                                      18.272890  ...                                          22.790607  \n",
            "1                                      16.755219  ...                                          21.892771  \n",
            "2                                      15.543254  ...                                          22.036352  \n",
            "3                                      16.454018  ...                                          21.337503  \n",
            "4                                      17.806166  ...                                          22.189713  \n",
            "5                                      16.702007  ...                                          21.950027  \n",
            "6                                      17.989443  ...                                          22.597744  \n",
            "7                                      13.815506  ...                                          15.899603  \n",
            "8                                      13.358367  ...                                          17.247396  \n",
            "9                                      13.333598  ...                                          16.323204  \n",
            "\n",
            "[10 rows x 253 columns]\n",
            "<class 'pandas.core.frame.DataFrame'>\n",
            "RangeIndex: 1000000 entries, 0 to 999999\n",
            "Columns: 253 entries, contents_analyzed_BM25Stat_sum_k1_2.00_b_0.75 to text_bert_tok_text_bert_tok_IbmModel1_text_bert_tok\n",
            "dtypes: float32(253)\n",
            "memory usage: 965.1 MB\n",
            "None\n",
            "extract 1000 queries take 5560.59507393837s\n",
            "predict 1000 queries take 50.76563763618469s\n",
            " 29% 1999/6980 [1:33:52<00:29, 169.69it/s](998243, 253)\n",
            "(1000,)\n",
            "qid          inf\n",
            "count    998.243\n",
            "dtype: float64\n",
            "   contents_analyzed_BM25Stat_sum_k1_2.00_b_0.75  ...  text_bert_tok_text_bert_tok_IbmModel1_text_bert_tok\n",
            "0                                      10.111776  ...                                          16.428379  \n",
            "1                                      10.486523  ...                                          24.499523  \n",
            "2                                      13.786342  ...                                          25.111498  \n",
            "3                                      15.171106  ...                                          25.840839  \n",
            "4                                      15.857496  ...                                          26.083317  \n",
            "5                                      10.401319  ...                                          22.894928  \n",
            "6                                       9.737057  ...                                          23.731688  \n",
            "7                                      13.264591  ...                                          22.482220  \n",
            "8                                       9.972967  ...                                          20.253834  \n",
            "9                                      12.388563  ...                                          23.303703  \n",
            "\n",
            "[10 rows x 253 columns]\n",
            "<class 'pandas.core.frame.DataFrame'>\n",
            "RangeIndex: 998243 entries, 0 to 998242\n",
            "Columns: 253 entries, contents_analyzed_BM25Stat_sum_k1_2.00_b_0.75 to text_bert_tok_text_bert_tok_IbmModel1_text_bert_tok\n",
            "dtypes: float32(253)\n",
            "memory usage: 963.4 MB\n",
            "None\n",
            "extract 1000 queries take 5769.344528675079s\n",
            "predict 1000 queries take 45.538474559783936s\n",
            " 43% 2995/6980 [3:10:50<00:27, 147.39it/s](997277, 253)\n",
            "(1000,)\n",
            "qid          inf\n",
            "count    997.277\n",
            "dtype: float64\n",
            "   contents_analyzed_BM25Stat_sum_k1_2.00_b_0.75  ...  text_bert_tok_text_bert_tok_IbmModel1_text_bert_tok\n",
            "0                                       8.927535  ...                                           2.443952  \n",
            "1                                       8.430907  ...                                           5.454348  \n",
            "2                                       8.355142  ...                                           5.234128  \n",
            "3                                       8.687586  ...                                           4.164658  \n",
            "4                                       9.019973  ...                                           6.354911  \n",
            "5                                       8.769530  ...                                           5.349822  \n",
            "6                                       8.702668  ...                                           5.735233  \n",
            "7                                       8.488850  ...                                           5.339559  \n",
            "8                                       8.702668  ...                                           6.073926  \n",
            "9                                       8.626908  ...                                           8.739398  \n",
            "\n",
            "[10 rows x 253 columns]\n",
            "<class 'pandas.core.frame.DataFrame'>\n",
            "RangeIndex: 997277 entries, 0 to 997276\n",
            "Columns: 253 entries, contents_analyzed_BM25Stat_sum_k1_2.00_b_0.75 to text_bert_tok_text_bert_tok_IbmModel1_text_bert_tok\n",
            "dtypes: float32(253)\n",
            "memory usage: 962.5 MB\n",
            "None\n",
            "extract 1000 queries take 6026.11888051033s\n",
            "predict 1000 queries take 48.11374306678772s\n",
            " 57% 3992/6980 [4:52:03<00:19, 153.62it/s]"
          ]
        }
      ]
    },
    {
      "cell_type": "code",
      "source": [
        "#MRR Eval\n",
        "!python -m pyserini.eval.msmarco_passage_eval msmarco-passage-dev-subset run.ltr.msmarco-passage.tsv >> ltr_mrr_eval.txt\n",
        "\n"
      ],
      "metadata": {
        "colab": {
          "base_uri": "https://localhost:8080/"
        },
        "id": "ZmbIG56-LwKP",
        "outputId": "acf02ce0-b1a4-4037-a723-c292ad032223"
      },
      "execution_count": 1,
      "outputs": [
        {
          "output_type": "stream",
          "name": "stdout",
          "text": [
            "/usr/bin/python3: Error while finding module specification for 'pyserini.eval.msmarco_passage_eval' (ModuleNotFoundError: No module named 'pyserini')\n"
          ]
        }
      ]
    },
    {
      "cell_type": "code",
      "source": [
        "#TREC Eval\n",
        "!python -m pyserini.eval.convert_msmarco_run_to_trec_run --input run.ltr.msmarco-passage.tsv --output run.ltr.msmarco-passage.trec\n",
        "\n",
        "!python -m pyserini.eval.trec_eval -c -mrecall.1000 \\\n",
        "                                      -mmap msmarco-passage-dev-subset \\\n",
        "                                      run.ltr.msmarco-passage.trec >> ltr_trec_eval.txt"
      ],
      "metadata": {
        "id": "FON0q1NsVQuE"
      },
      "execution_count": null,
      "outputs": []
    },
    {
      "cell_type": "code",
      "source": [
        "!python -m pyserini.eval.convert_msmarco_run_to_trec_run \\\n",
        "   \n",
        "\n",
        "!python -m pyserini/tools/scripts/msmarco/convert_msmarco_to_trec_qrels \\\n",
        "   --input tools/topics-and-qrels/qrels.msmarco-passage.dev-subset.txt --output collections/msmarco-passage/qrels.dev.small.trec"
      ],
      "metadata": {
        "id": "U-CnmlrXU50s"
      },
      "execution_count": null,
      "outputs": []
    },
    {
      "cell_type": "code",
      "source": [
        "$ tools/eval/trec_eval.9.0.4/trec_eval -c -mrecall.1000 -mmap \\\n",
        "   collections/msmarco-passage/qrels.dev.small.trec runs/run.ltr.msmarco-passage.trec\n",
        "map                   \tall\t0.2551\n",
        "recall_1000           \tall\t0.8573       \t"
      ],
      "metadata": {
        "id": "55mjIA6TVBY4"
      },
      "execution_count": null,
      "outputs": []
    }
  ]
}